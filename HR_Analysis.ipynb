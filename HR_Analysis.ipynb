{
  "nbformat": 4,
  "nbformat_minor": 0,
  "metadata": {
    "colab": {
      "name": "HR-Analysis",
      "provenance": [],
      "collapsed_sections": []
    },
    "kernelspec": {
      "display_name": "Python 3",
      "name": "python3"
    },
    "language_info": {
      "name": "python"
    }
  },
  "cells": [
    {
      "cell_type": "markdown",
      "metadata": {
        "id": "ha0Oe78skJK7"
      },
      "source": [
        "# **HR-Analysis**"
      ]
    },
    {
      "cell_type": "markdown",
      "metadata": {
        "id": "gDTkIUOM8QxF"
      },
      "source": [
        "# **HR Analytics Project- Understanding the Attrition in HR**\n",
        "## **Problem Statement:**\n",
        "Every year a lot of companies hire a number of employees. The companies invest time and money in training those employees, not just this but there are training programs within the companies for their existing employees as well. The aim of these programs is to increase the effectiveness of their employees. But where HR Analytics fit in this? and is it just about improving the performance of employees?<br>\n",
        "<br>\n",
        "**HR Analytics**<br>\n",
        "<br>\n",
        "Human resource analytics (HR analytics) is an area in the field of analytics that refers to applying analytic processes to the human resource department of an organization in the hope of improving employee performance and therefore getting a better return on investment. HR analytics does not just deal with gathering data on employee efficiency. Instead, it aims to provide insight into each process by gathering data and then using it to make relevant decisions about how to improve these processes.<br>\n",
        "<br>\n",
        "**Attrition in HR**<br>\n",
        "<br>\n",
        "Attrition in human resources refers to the gradual loss of employees overtime. In general, relatively high attrition is problematic for companies. HR professionals often assume a leadership role in designing company compensation programs, work culture, and motivation systems that help the organization retain top employees.<br>\n",
        "<br>\n",
        "How does Attrition affect companies? and how does HR Analytics help in analyzing attrition? We will discuss the first question here and for the second question, we will write the code and try to understand the process step by step.\n",
        "<br>\n",
        "<br>\n",
        "**Attrition affecting Companies**<br>\n",
        "<br>\n",
        "A major problem in high employee attrition is its cost to an organization. Job postings, hiring processes, paperwork, and new hire training are some of the common expenses of losing employees and replacing them. Additionally, regular employee turnover prohibits your organization from increasing its collective knowledge base and experience over time. This is especially concerning if your business is customer-facing, as customers often prefer to interact with familiar people. Errors and issues are more likely if you constantly have new workers.<br>"
      ]
    },
    {
      "cell_type": "code",
      "metadata": {
        "id": "o0AenwqLkPvW"
      },
      "source": [
        "# import libraries\n",
        "import pandas as pd\n",
        "import numpy as np\n",
        "import matplotlib.pyplot as plt\n",
        "import seaborn as sns"
      ],
      "execution_count": null,
      "outputs": []
    },
    {
      "cell_type": "code",
      "metadata": {
        "id": "QvNYX2LulNg2",
        "colab": {
          "base_uri": "https://localhost:8080/",
          "height": 309
        },
        "outputId": "3771e982-653c-46b4-d6e4-8f2052ce095b"
      },
      "source": [
        "# import data\n",
        "data = pd.read_csv('/content/sample_data/WA_Fn-UseC_-HR-Employee-Attrition.csv')\n",
        "data.head()"
      ],
      "execution_count": null,
      "outputs": [
        {
          "output_type": "execute_result",
          "data": {
            "text/html": [
              "<div>\n",
              "<style scoped>\n",
              "    .dataframe tbody tr th:only-of-type {\n",
              "        vertical-align: middle;\n",
              "    }\n",
              "\n",
              "    .dataframe tbody tr th {\n",
              "        vertical-align: top;\n",
              "    }\n",
              "\n",
              "    .dataframe thead th {\n",
              "        text-align: right;\n",
              "    }\n",
              "</style>\n",
              "<table border=\"1\" class=\"dataframe\">\n",
              "  <thead>\n",
              "    <tr style=\"text-align: right;\">\n",
              "      <th></th>\n",
              "      <th>Age</th>\n",
              "      <th>Attrition</th>\n",
              "      <th>BusinessTravel</th>\n",
              "      <th>DailyRate</th>\n",
              "      <th>Department</th>\n",
              "      <th>DistanceFromHome</th>\n",
              "      <th>Education</th>\n",
              "      <th>EducationField</th>\n",
              "      <th>EmployeeCount</th>\n",
              "      <th>EmployeeNumber</th>\n",
              "      <th>EnvironmentSatisfaction</th>\n",
              "      <th>Gender</th>\n",
              "      <th>HourlyRate</th>\n",
              "      <th>JobInvolvement</th>\n",
              "      <th>JobLevel</th>\n",
              "      <th>JobRole</th>\n",
              "      <th>JobSatisfaction</th>\n",
              "      <th>MaritalStatus</th>\n",
              "      <th>MonthlyIncome</th>\n",
              "      <th>MonthlyRate</th>\n",
              "      <th>NumCompaniesWorked</th>\n",
              "      <th>Over18</th>\n",
              "      <th>OverTime</th>\n",
              "      <th>PercentSalaryHike</th>\n",
              "      <th>PerformanceRating</th>\n",
              "      <th>RelationshipSatisfaction</th>\n",
              "      <th>StandardHours</th>\n",
              "      <th>StockOptionLevel</th>\n",
              "      <th>TotalWorkingYears</th>\n",
              "      <th>TrainingTimesLastYear</th>\n",
              "      <th>WorkLifeBalance</th>\n",
              "      <th>YearsAtCompany</th>\n",
              "      <th>YearsInCurrentRole</th>\n",
              "      <th>YearsSinceLastPromotion</th>\n",
              "      <th>YearsWithCurrManager</th>\n",
              "    </tr>\n",
              "  </thead>\n",
              "  <tbody>\n",
              "    <tr>\n",
              "      <th>0</th>\n",
              "      <td>41</td>\n",
              "      <td>Yes</td>\n",
              "      <td>Travel_Rarely</td>\n",
              "      <td>1102</td>\n",
              "      <td>Sales</td>\n",
              "      <td>1</td>\n",
              "      <td>2</td>\n",
              "      <td>Life Sciences</td>\n",
              "      <td>1</td>\n",
              "      <td>1</td>\n",
              "      <td>2</td>\n",
              "      <td>Female</td>\n",
              "      <td>94</td>\n",
              "      <td>3</td>\n",
              "      <td>2</td>\n",
              "      <td>Sales Executive</td>\n",
              "      <td>4</td>\n",
              "      <td>Single</td>\n",
              "      <td>5993</td>\n",
              "      <td>19479</td>\n",
              "      <td>8</td>\n",
              "      <td>Y</td>\n",
              "      <td>Yes</td>\n",
              "      <td>11</td>\n",
              "      <td>3</td>\n",
              "      <td>1</td>\n",
              "      <td>80</td>\n",
              "      <td>0</td>\n",
              "      <td>8</td>\n",
              "      <td>0</td>\n",
              "      <td>1</td>\n",
              "      <td>6</td>\n",
              "      <td>4</td>\n",
              "      <td>0</td>\n",
              "      <td>5</td>\n",
              "    </tr>\n",
              "    <tr>\n",
              "      <th>1</th>\n",
              "      <td>49</td>\n",
              "      <td>No</td>\n",
              "      <td>Travel_Frequently</td>\n",
              "      <td>279</td>\n",
              "      <td>Research &amp; Development</td>\n",
              "      <td>8</td>\n",
              "      <td>1</td>\n",
              "      <td>Life Sciences</td>\n",
              "      <td>1</td>\n",
              "      <td>2</td>\n",
              "      <td>3</td>\n",
              "      <td>Male</td>\n",
              "      <td>61</td>\n",
              "      <td>2</td>\n",
              "      <td>2</td>\n",
              "      <td>Research Scientist</td>\n",
              "      <td>2</td>\n",
              "      <td>Married</td>\n",
              "      <td>5130</td>\n",
              "      <td>24907</td>\n",
              "      <td>1</td>\n",
              "      <td>Y</td>\n",
              "      <td>No</td>\n",
              "      <td>23</td>\n",
              "      <td>4</td>\n",
              "      <td>4</td>\n",
              "      <td>80</td>\n",
              "      <td>1</td>\n",
              "      <td>10</td>\n",
              "      <td>3</td>\n",
              "      <td>3</td>\n",
              "      <td>10</td>\n",
              "      <td>7</td>\n",
              "      <td>1</td>\n",
              "      <td>7</td>\n",
              "    </tr>\n",
              "    <tr>\n",
              "      <th>2</th>\n",
              "      <td>37</td>\n",
              "      <td>Yes</td>\n",
              "      <td>Travel_Rarely</td>\n",
              "      <td>1373</td>\n",
              "      <td>Research &amp; Development</td>\n",
              "      <td>2</td>\n",
              "      <td>2</td>\n",
              "      <td>Other</td>\n",
              "      <td>1</td>\n",
              "      <td>4</td>\n",
              "      <td>4</td>\n",
              "      <td>Male</td>\n",
              "      <td>92</td>\n",
              "      <td>2</td>\n",
              "      <td>1</td>\n",
              "      <td>Laboratory Technician</td>\n",
              "      <td>3</td>\n",
              "      <td>Single</td>\n",
              "      <td>2090</td>\n",
              "      <td>2396</td>\n",
              "      <td>6</td>\n",
              "      <td>Y</td>\n",
              "      <td>Yes</td>\n",
              "      <td>15</td>\n",
              "      <td>3</td>\n",
              "      <td>2</td>\n",
              "      <td>80</td>\n",
              "      <td>0</td>\n",
              "      <td>7</td>\n",
              "      <td>3</td>\n",
              "      <td>3</td>\n",
              "      <td>0</td>\n",
              "      <td>0</td>\n",
              "      <td>0</td>\n",
              "      <td>0</td>\n",
              "    </tr>\n",
              "    <tr>\n",
              "      <th>3</th>\n",
              "      <td>33</td>\n",
              "      <td>No</td>\n",
              "      <td>Travel_Frequently</td>\n",
              "      <td>1392</td>\n",
              "      <td>Research &amp; Development</td>\n",
              "      <td>3</td>\n",
              "      <td>4</td>\n",
              "      <td>Life Sciences</td>\n",
              "      <td>1</td>\n",
              "      <td>5</td>\n",
              "      <td>4</td>\n",
              "      <td>Female</td>\n",
              "      <td>56</td>\n",
              "      <td>3</td>\n",
              "      <td>1</td>\n",
              "      <td>Research Scientist</td>\n",
              "      <td>3</td>\n",
              "      <td>Married</td>\n",
              "      <td>2909</td>\n",
              "      <td>23159</td>\n",
              "      <td>1</td>\n",
              "      <td>Y</td>\n",
              "      <td>Yes</td>\n",
              "      <td>11</td>\n",
              "      <td>3</td>\n",
              "      <td>3</td>\n",
              "      <td>80</td>\n",
              "      <td>0</td>\n",
              "      <td>8</td>\n",
              "      <td>3</td>\n",
              "      <td>3</td>\n",
              "      <td>8</td>\n",
              "      <td>7</td>\n",
              "      <td>3</td>\n",
              "      <td>0</td>\n",
              "    </tr>\n",
              "    <tr>\n",
              "      <th>4</th>\n",
              "      <td>27</td>\n",
              "      <td>No</td>\n",
              "      <td>Travel_Rarely</td>\n",
              "      <td>591</td>\n",
              "      <td>Research &amp; Development</td>\n",
              "      <td>2</td>\n",
              "      <td>1</td>\n",
              "      <td>Medical</td>\n",
              "      <td>1</td>\n",
              "      <td>7</td>\n",
              "      <td>1</td>\n",
              "      <td>Male</td>\n",
              "      <td>40</td>\n",
              "      <td>3</td>\n",
              "      <td>1</td>\n",
              "      <td>Laboratory Technician</td>\n",
              "      <td>2</td>\n",
              "      <td>Married</td>\n",
              "      <td>3468</td>\n",
              "      <td>16632</td>\n",
              "      <td>9</td>\n",
              "      <td>Y</td>\n",
              "      <td>No</td>\n",
              "      <td>12</td>\n",
              "      <td>3</td>\n",
              "      <td>4</td>\n",
              "      <td>80</td>\n",
              "      <td>1</td>\n",
              "      <td>6</td>\n",
              "      <td>3</td>\n",
              "      <td>3</td>\n",
              "      <td>2</td>\n",
              "      <td>2</td>\n",
              "      <td>2</td>\n",
              "      <td>2</td>\n",
              "    </tr>\n",
              "  </tbody>\n",
              "</table>\n",
              "</div>"
            ],
            "text/plain": [
              "   Age Attrition  ... YearsSinceLastPromotion  YearsWithCurrManager\n",
              "0   41       Yes  ...                       0                     5\n",
              "1   49        No  ...                       1                     7\n",
              "2   37       Yes  ...                       0                     0\n",
              "3   33        No  ...                       3                     0\n",
              "4   27        No  ...                       2                     2\n",
              "\n",
              "[5 rows x 35 columns]"
            ]
          },
          "metadata": {},
          "execution_count": 2
        }
      ]
    },
    {
      "cell_type": "code",
      "metadata": {
        "id": "92UHvQ-Cx8ak",
        "colab": {
          "base_uri": "https://localhost:8080/"
        },
        "outputId": "f5360997-a97e-4295-e91f-807012886a80"
      },
      "source": [
        "# check shape\n",
        "data.shape"
      ],
      "execution_count": null,
      "outputs": [
        {
          "output_type": "execute_result",
          "data": {
            "text/plain": [
              "(1470, 35)"
            ]
          },
          "metadata": {},
          "execution_count": 3
        }
      ]
    },
    {
      "cell_type": "markdown",
      "metadata": {
        "id": "D-VAEFlIzlYn"
      },
      "source": [
        " - We have 1470 rows and 35 columns."
      ]
    },
    {
      "cell_type": "markdown",
      "metadata": {
        "id": "YQNA_1F5Japt"
      },
      "source": [
        "# **EDA**"
      ]
    },
    {
      "cell_type": "code",
      "metadata": {
        "id": "TijuDz1qzjwk",
        "colab": {
          "base_uri": "https://localhost:8080/"
        },
        "outputId": "7740af72-cf58-4026-ca30-e45bf26970af"
      },
      "source": [
        "data.keys()"
      ],
      "execution_count": null,
      "outputs": [
        {
          "output_type": "execute_result",
          "data": {
            "text/plain": [
              "Index(['Age', 'Attrition', 'BusinessTravel', 'DailyRate', 'Department',\n",
              "       'DistanceFromHome', 'Education', 'EducationField', 'EmployeeCount',\n",
              "       'EmployeeNumber', 'EnvironmentSatisfaction', 'Gender', 'HourlyRate',\n",
              "       'JobInvolvement', 'JobLevel', 'JobRole', 'JobSatisfaction',\n",
              "       'MaritalStatus', 'MonthlyIncome', 'MonthlyRate', 'NumCompaniesWorked',\n",
              "       'Over18', 'OverTime', 'PercentSalaryHike', 'PerformanceRating',\n",
              "       'RelationshipSatisfaction', 'StandardHours', 'StockOptionLevel',\n",
              "       'TotalWorkingYears', 'TrainingTimesLastYear', 'WorkLifeBalance',\n",
              "       'YearsAtCompany', 'YearsInCurrentRole', 'YearsSinceLastPromotion',\n",
              "       'YearsWithCurrManager'],\n",
              "      dtype='object')"
            ]
          },
          "metadata": {},
          "execution_count": 4
        }
      ]
    },
    {
      "cell_type": "code",
      "metadata": {
        "id": "-EX3z3elWvGL",
        "colab": {
          "base_uri": "https://localhost:8080/"
        },
        "outputId": "b09e3fcf-aaea-4a89-e2b0-913fc82c6d6b"
      },
      "source": [
        "data.dtypes"
      ],
      "execution_count": null,
      "outputs": [
        {
          "output_type": "execute_result",
          "data": {
            "text/plain": [
              "Age                          int64\n",
              "Attrition                   object\n",
              "BusinessTravel              object\n",
              "DailyRate                    int64\n",
              "Department                  object\n",
              "DistanceFromHome             int64\n",
              "Education                    int64\n",
              "EducationField              object\n",
              "EmployeeCount                int64\n",
              "EmployeeNumber               int64\n",
              "EnvironmentSatisfaction      int64\n",
              "Gender                      object\n",
              "HourlyRate                   int64\n",
              "JobInvolvement               int64\n",
              "JobLevel                     int64\n",
              "JobRole                     object\n",
              "JobSatisfaction              int64\n",
              "MaritalStatus               object\n",
              "MonthlyIncome                int64\n",
              "MonthlyRate                  int64\n",
              "NumCompaniesWorked           int64\n",
              "Over18                      object\n",
              "OverTime                    object\n",
              "PercentSalaryHike            int64\n",
              "PerformanceRating            int64\n",
              "RelationshipSatisfaction     int64\n",
              "StandardHours                int64\n",
              "StockOptionLevel             int64\n",
              "TotalWorkingYears            int64\n",
              "TrainingTimesLastYear        int64\n",
              "WorkLifeBalance              int64\n",
              "YearsAtCompany               int64\n",
              "YearsInCurrentRole           int64\n",
              "YearsSinceLastPromotion      int64\n",
              "YearsWithCurrManager         int64\n",
              "dtype: object"
            ]
          },
          "metadata": {},
          "execution_count": 5
        }
      ]
    },
    {
      "cell_type": "markdown",
      "metadata": {
        "id": "AquUzXjlk6qi"
      },
      "source": [
        " - High attrition is problematic for a company. "
      ]
    },
    {
      "cell_type": "markdown",
      "metadata": {
        "id": "mMOxXE_4lHse"
      },
      "source": [
        "# **EDA**"
      ]
    },
    {
      "cell_type": "code",
      "metadata": {
        "colab": {
          "base_uri": "https://localhost:8080/",
          "height": 399
        },
        "id": "l76JEnGzk57P",
        "outputId": "2461754e-8cb4-4e05-f708-4621f2f1ae92"
      },
      "source": [
        "# check null\n",
        "sns.heatmap(data.isnull())"
      ],
      "execution_count": null,
      "outputs": [
        {
          "output_type": "execute_result",
          "data": {
            "text/plain": [
              "<matplotlib.axes._subplots.AxesSubplot at 0x7fd79363b550>"
            ]
          },
          "metadata": {},
          "execution_count": 6
        },
        {
          "output_type": "display_data",
          "data": {
            "image/png": "[encoded data removed]",
            "text/plain": [
              "<Figure size 432x288 with 2 Axes>"
            ]
          },
          "metadata": {
            "needs_background": "light"
          }
        }
      ]
    },
    {
      "cell_type": "markdown",
      "metadata": {
        "id": "jTF7h1-Gl6Tl"
      },
      "source": [
        "# **Univariate Analysis**"
      ]
    },
    {
      "cell_type": "code",
      "metadata": {
        "colab": {
          "base_uri": "https://localhost:8080/",
          "height": 354
        },
        "id": "dCTvBP4Sk5p7",
        "outputId": "f4248e9a-4582-4bae-d322-89daa8d119ae"
      },
      "source": [
        "plt.figure(figsize=(10,5))\n",
        "sns.countplot(x='Attrition',data=data)\n",
        "plt.title('Attrition Yes Vs No', fontsize=18)\n",
        "plt.show()"
      ],
      "execution_count": null,
      "outputs": [
        {
          "output_type": "display_data",
          "data": {
            "image/png": "[encoded data removed]",
            "text/plain": [
              "<Figure size 720x360 with 1 Axes>"
            ]
          },
          "metadata": {
            "needs_background": "light"
          }
        }
      ]
    },
    {
      "cell_type": "markdown",
      "metadata": {
        "id": "mqb62HWFpflv"
      },
      "source": [
        " - No of attrition for No is too higher than Yes."
      ]
    },
    {
      "cell_type": "code",
      "metadata": {
        "id": "gcytkAxEkZA2",
        "colab": {
          "base_uri": "https://localhost:8080/",
          "height": 355
        },
        "outputId": "b056c755-5997-417c-e964-fed4ea637588"
      },
      "source": [
        "plt.figure(figsize=(10,5))\n",
        "sns.countplot(x='BusinessTravel', data=data)\n",
        "plt.title('How often HR travel', fontsize=18)\n",
        "plt.show()"
      ],
      "execution_count": null,
      "outputs": [
        {
          "output_type": "display_data",
          "data": {
            "image/png": "[encoded data removed]",
            "text/plain": [
              "<Figure size 720x360 with 1 Axes>"
            ]
          },
          "metadata": {
            "needs_background": "light"
          }
        }
      ]
    },
    {
      "cell_type": "markdown",
      "metadata": {
        "id": "Egy9rPZXsDJa"
      },
      "source": [
        " - There are 3 types, travel rarely,frequently & non traveler.\n",
        " - The HR who travel rarely ratio is too high."
      ]
    },
    {
      "cell_type": "code",
      "metadata": {
        "colab": {
          "base_uri": "https://localhost:8080/",
          "height": 354
        },
        "id": "x1-yiQ0OrR3b",
        "outputId": "20080eb7-f850-41e6-b30d-a80fa92a92ef"
      },
      "source": [
        "plt.figure(figsize=(10,5))\n",
        "sns.countplot(x='Department', data=data)\n",
        "plt.title('Types of Department', fontsize=18)\n",
        "plt.show()"
      ],
      "execution_count": null,
      "outputs": [
        {
          "output_type": "display_data",
          "data": {
            "image/png": "[encoded data removed]",
            "text/plain": [
              "<Figure size 720x360 with 1 Axes>"
            ]
          },
          "metadata": {
            "needs_background": "light"
          }
        }
      ]
    },
    {
      "cell_type": "markdown",
      "metadata": {
        "id": "46M15bnpu-ML"
      },
      "source": [
        " - There are 3 types of department sales, R&D, HR.\n",
        " - R&D has more number of employees."
      ]
    },
    {
      "cell_type": "code",
      "metadata": {
        "colab": {
          "base_uri": "https://localhost:8080/",
          "height": 354
        },
        "id": "tf5G-xrEuIbq",
        "outputId": "3898abb8-a41e-453a-f301-6d3819816af7"
      },
      "source": [
        "plt.figure(figsize=(10,5))\n",
        "sns.countplot(x='EducationField', data=data)\n",
        "plt.title('Education Filed', fontsize=18)\n",
        "plt.show()"
      ],
      "execution_count": null,
      "outputs": [
        {
          "output_type": "display_data",
          "data": {
            "image/png": "[encoded data removed]",
            "text/plain": [
              "<Figure size 720x360 with 1 Axes>"
            ]
          },
          "metadata": {
            "needs_background": "light"
          }
        }
      ]
    },
    {
      "cell_type": "markdown",
      "metadata": {
        "id": "IRjlWRB7v8yF"
      },
      "source": [
        " - Our dataset have 6 types of field : Life Sciences,Other,Medical,Marketing,Technical Degree,Human Resources.\n",
        " - HR have very low fields."
      ]
    },
    {
      "cell_type": "code",
      "metadata": {
        "colab": {
          "base_uri": "https://localhost:8080/",
          "height": 354
        },
        "id": "JnNflLeGv4dq",
        "outputId": "46fe7121-8e3c-4ebe-b211-b2021923ff5d"
      },
      "source": [
        "plt.figure(figsize=(10,5))\n",
        "sns.countplot(x='Gender', data=data)\n",
        "plt.title('Male Vs Female', fontsize=18)\n",
        "plt.show()"
      ],
      "execution_count": null,
      "outputs": [
        {
          "output_type": "display_data",
          "data": {
            "image/png": "[encoded data removed]",
            "text/plain": [
              "<Figure size 720x360 with 1 Axes>"
            ]
          },
          "metadata": {
            "needs_background": "light"
          }
        }
      ]
    },
    {
      "cell_type": "markdown",
      "metadata": {
        "id": "8hSeBTMryYAY"
      },
      "source": [
        " - In out dataset, there are more male participants than female."
      ]
    },
    {
      "cell_type": "code",
      "metadata": {
        "colab": {
          "base_uri": "https://localhost:8080/",
          "height": 445
        },
        "id": "wG26PuUXxYOw",
        "outputId": "835de102-b24b-4672-80a7-00984566f1a1"
      },
      "source": [
        "plt.figure(figsize=(10,5))\n",
        "ax = sns.countplot(x='JobRole', data=data)\n",
        "ax.set_xticklabels(ax.get_xticklabels(), rotation=45)\n",
        "plt.title('Job Role', fontsize=18)\n",
        "plt.show()"
      ],
      "execution_count": null,
      "outputs": [
        {
          "output_type": "display_data",
          "data": {
            "image/png": "[encoded data removed]",
            "text/plain": [
              "<Figure size 720x360 with 1 Axes>"
            ]
          },
          "metadata": {
            "needs_background": "light"
          }
        }
      ]
    },
    {
      "cell_type": "markdown",
      "metadata": {
        "id": "-i4XW3jb3x4b"
      },
      "source": [
        " - Our dataset have 9 types of job role where sales executive have high ratio and HR has less. "
      ]
    },
    {
      "cell_type": "code",
      "metadata": {
        "colab": {
          "base_uri": "https://localhost:8080/",
          "height": 354
        },
        "id": "wzzy1_uvy23O",
        "outputId": "417cc125-7dc7-451d-eda7-a87bd57ed0dd"
      },
      "source": [
        "plt.figure(figsize=(10,5))\n",
        "sns.countplot(x='MaritalStatus', data=data)\n",
        "plt.title('Marital Status', fontsize=18)\n",
        "plt.show()"
      ],
      "execution_count": null,
      "outputs": [
        {
          "output_type": "display_data",
          "data": {
            "image/png": "[encoded data removed]",
            "text/plain": [
              "<Figure size 720x360 with 1 Axes>"
            ]
          },
          "metadata": {
            "needs_background": "light"
          }
        }
      ]
    },
    {
      "cell_type": "markdown",
      "metadata": {
        "id": "fCg-74Z75HvN"
      },
      "source": [
        " - There are 3 types where, most of the people are married and less are divorsed."
      ]
    },
    {
      "cell_type": "code",
      "metadata": {
        "colab": {
          "base_uri": "https://localhost:8080/",
          "height": 354
        },
        "id": "M6oNMKBf4i00",
        "outputId": "38ee2141-0367-419c-cca3-c8187cf0446b"
      },
      "source": [
        "plt.figure(figsize=(10,5))\n",
        "sns.countplot(x='Over18', data=data)\n",
        "plt.title('Over18', fontsize=18)\n",
        "plt.show()"
      ],
      "execution_count": null,
      "outputs": [
        {
          "output_type": "display_data",
          "data": {
            "image/png": "[encoded data removed]",
            "text/plain": [
              "<Figure size 720x360 with 1 Axes>"
            ]
          },
          "metadata": {
            "needs_background": "light"
          }
        }
      ]
    },
    {
      "cell_type": "markdown",
      "metadata": {
        "id": "AosHLFlK5x7p"
      },
      "source": [
        " - All employees are above 18."
      ]
    },
    {
      "cell_type": "code",
      "metadata": {
        "colab": {
          "base_uri": "https://localhost:8080/",
          "height": 354
        },
        "id": "xH7icRwD5l4k",
        "outputId": "25c1c7ad-0719-4ccf-da29-04186538281c"
      },
      "source": [
        "plt.figure(figsize=(10,5))\n",
        "sns.countplot(x='OverTime', data=data)\n",
        "plt.title('Over Time', fontsize=18)\n",
        "plt.show()"
      ],
      "execution_count": null,
      "outputs": [
        {
          "output_type": "display_data",
          "data": {
            "image/png": "[encoded data removed]",
            "text/plain": [
              "<Figure size 720x360 with 1 Axes>"
            ]
          },
          "metadata": {
            "needs_background": "light"
          }
        }
      ]
    },
    {
      "cell_type": "markdown",
      "metadata": {
        "id": "_FbCCSqp63OA"
      },
      "source": [
        " - Most of the people don't like overtime.\n",
        " - There are more than 1000 ppl don't like overtime whereas almost 420 ppl does over time."
      ]
    },
    {
      "cell_type": "markdown",
      "metadata": {
        "id": "mVRgH5Hr7ngf"
      },
      "source": [
        "# **Bivariate Analysis**"
      ]
    },
    {
      "cell_type": "code",
      "metadata": {
        "colab": {
          "base_uri": "https://localhost:8080/",
          "height": 354
        },
        "id": "LSfBWzAb6hS4",
        "outputId": "5d8cae7a-c4ce-457b-f0c5-02ce3b91210d"
      },
      "source": [
        "plt.figure(figsize=(10,5))\n",
        "sns.boxplot(x='Attrition', y='Age', data=data)\n",
        "plt.title('Attrition Vs Age', fontsize=18)\n",
        "plt.show()"
      ],
      "execution_count": null,
      "outputs": [
        {
          "output_type": "display_data",
          "data": {
            "image/png": "[encoded data removed]",
            "text/plain": [
              "<Figure size 720x360 with 1 Axes>"
            ]
          },
          "metadata": {
            "needs_background": "light"
          }
        }
      ]
    },
    {
      "cell_type": "markdown",
      "metadata": {
        "id": "e20woFiyKSPt"
      },
      "source": [
        " - We can say that if a person age is higher then won't leave a job whereas age is less then leave a job."
      ]
    },
    {
      "cell_type": "code",
      "metadata": {
        "id": "r-VgDrY4-5Mn",
        "colab": {
          "base_uri": "https://localhost:8080/",
          "height": 334
        },
        "outputId": "32d79949-2f40-4fa3-924d-8dc50980b993"
      },
      "source": [
        "plt.figure(figsize=(10,5))\n",
        "sns.boxplot(x='Attrition', y='DailyRate', data=data)\n",
        "plt.show()"
      ],
      "execution_count": null,
      "outputs": [
        {
          "output_type": "display_data",
          "data": {
            "image/png": "[encoded data removed]",
            "text/plain": [
              "<Figure size 720x360 with 1 Axes>"
            ]
          },
          "metadata": {
            "needs_background": "light"
          }
        }
      ]
    },
    {
      "cell_type": "markdown",
      "metadata": {
        "id": "cpB2zvKQOevE"
      },
      "source": [
        " - We can say that if DailyRate is high then person won't leave a job."
      ]
    },
    {
      "cell_type": "code",
      "metadata": {
        "colab": {
          "base_uri": "https://localhost:8080/",
          "height": 334
        },
        "id": "XwtxMZd0LNyd",
        "outputId": "172cd9ca-a6a6-4252-efb0-a875b67d32e7"
      },
      "source": [
        "plt.figure(figsize=(10,5))\n",
        "sns.boxplot(x='Attrition', y='JobSatisfaction', data=data)\n",
        "plt.show()"
      ],
      "execution_count": null,
      "outputs": [
        {
          "output_type": "display_data",
          "data": {
            "image/png": "[encoded data removed]",
            "text/plain": [
              "<Figure size 720x360 with 1 Axes>"
            ]
          },
          "metadata": {
            "needs_background": "light"
          }
        }
      ]
    },
    {
      "cell_type": "markdown",
      "metadata": {
        "id": "_fp3_uZnPUax"
      },
      "source": [
        " - When a JobSatisfaction level is high then person won't leave a job whereas if less then will leave."
      ]
    },
    {
      "cell_type": "code",
      "metadata": {
        "colab": {
          "base_uri": "https://localhost:8080/",
          "height": 334
        },
        "id": "yGxfj3YXPIaO",
        "outputId": "8bb72ebc-1a4c-4884-f5e3-0c40a2cd3fdd"
      },
      "source": [
        "plt.figure(figsize=(10,5))\n",
        "sns.boxplot(x='Attrition', y='YearsInCurrentRole', data=data)\n",
        "plt.show()"
      ],
      "execution_count": null,
      "outputs": [
        {
          "output_type": "display_data",
          "data": {
            "image/png": "[encoded data removed]",
            "text/plain": [
              "<Figure size 720x360 with 1 Axes>"
            ]
          },
          "metadata": {
            "needs_background": "light"
          }
        }
      ]
    },
    {
      "cell_type": "markdown",
      "metadata": {
        "id": "lSaK7iBOTw_N"
      },
      "source": [
        " - When a employee works in a current role more then won't leave a job else leave it."
      ]
    },
    {
      "cell_type": "markdown",
      "metadata": {
        "id": "6URq1MX7VP-z"
      },
      "source": [
        "# **Multi-Variate Analysis**"
      ]
    },
    {
      "cell_type": "code",
      "metadata": {
        "colab": {
          "base_uri": "https://localhost:8080/",
          "height": 334
        },
        "id": "Epf0-9SsP8OO",
        "outputId": "1f1fa8e9-acdd-4d09-a05a-e0cd492b8f3e"
      },
      "source": [
        "plt.figure(figsize=(12,5))\n",
        "sns.boxplot(x='Attrition', y='Age', hue='Gender', data=data)\n",
        "plt.show()"
      ],
      "execution_count": null,
      "outputs": [
        {
          "output_type": "display_data",
          "data": {
            "image/png": "[encoded data removed]",
            "text/plain": [
              "<Figure size 864x360 with 1 Axes>"
            ]
          },
          "metadata": {
            "needs_background": "light"
          }
        }
      ]
    },
    {
      "cell_type": "markdown",
      "metadata": {
        "id": "gQmD2nNSW29g"
      },
      "source": [
        " - Here we can say, if person is female and age is less then leave a job because attrition is Yes.\n",
        " - If a person is female and age is high then won't leave a job because attrition is No."
      ]
    },
    {
      "cell_type": "code",
      "metadata": {
        "id": "jTJXHZL1WnEA",
        "colab": {
          "base_uri": "https://localhost:8080/",
          "height": 442
        },
        "outputId": "25cff653-0e50-470e-ef8b-a0dcad273193"
      },
      "source": [
        "plt.figure(figsize=(12,7))\n",
        "sns.boxplot(x='Attrition', y='MonthlyIncome', hue='Gender', data=data)\n",
        "plt.show()"
      ],
      "execution_count": null,
      "outputs": [
        {
          "output_type": "display_data",
          "data": {
            "image/png": "[encoded data removed]",
            "text/plain": [
              "<Figure size 864x504 with 1 Axes>"
            ]
          },
          "metadata": {
            "needs_background": "light"
          }
        }
      ]
    },
    {
      "cell_type": "markdown",
      "metadata": {
        "id": "f0hD1FliJsV1"
      },
      "source": [
        " - If a person monthly income is less than 3000 then there will be a high possibility of leaving a job because attrition is Yes.\n",
        " - Whereas MonthlyIncome more than 5000, won't leave a job because Attrition is No."
      ]
    },
    {
      "cell_type": "markdown",
      "metadata": {
        "id": "Va__Ye3PKjDJ"
      },
      "source": [
        "# **Data Cleaning**"
      ]
    },
    {
      "cell_type": "code",
      "metadata": {
        "colab": {
          "base_uri": "https://localhost:8080/"
        },
        "id": "JH5bP_jYERtU",
        "outputId": "b3d66cd9-d0e7-437d-ee1a-8c6d03c46d96"
      },
      "source": [
        "# Removing those columns which has only 1 value across all the rows, it'll not help us in prediction.\n",
        "collist = data.columns.values\n",
        "for i in range(0,len(collist)):\n",
        "  if ((len(pd.unique(data[collist[i]])))<2):\n",
        "    print(data[collist[i]].value_counts())\n",
        "    data.drop(collist[i], axis=1, inplace=True)"
      ],
      "execution_count": null,
      "outputs": [
        {
          "output_type": "stream",
          "name": "stdout",
          "text": [
            "1    1470\n",
            "Name: EmployeeCount, dtype: int64\n",
            "Y    1470\n",
            "Name: Over18, dtype: int64\n",
            "80    1470\n",
            "Name: StandardHours, dtype: int64\n"
          ]
        }
      ]
    },
    {
      "cell_type": "code",
      "metadata": {
        "colab": {
          "base_uri": "https://localhost:8080/"
        },
        "id": "2wLHVZ_vLQnD",
        "outputId": "e12227ad-47ed-448f-ce43-08d869d3f48e"
      },
      "source": [
        "# checking shape of data\n",
        "data.shape"
      ],
      "execution_count": null,
      "outputs": [
        {
          "output_type": "execute_result",
          "data": {
            "text/plain": [
              "(1470, 32)"
            ]
          },
          "metadata": {},
          "execution_count": 23
        }
      ]
    },
    {
      "cell_type": "markdown",
      "metadata": {
        "id": "zwrzwOyoPAZD"
      },
      "source": [
        "# **Removing Outliers and Skewness**"
      ]
    },
    {
      "cell_type": "code",
      "metadata": {
        "id": "sUKrurQ_O_6e"
      },
      "source": [
        "# Shuffling the dataset\n",
        "# This will shuffle our data and it ll avoid biasness of prediction.\n",
        "data = data.sample(frac=1, random_state=0)"
      ],
      "execution_count": null,
      "outputs": []
    },
    {
      "cell_type": "code",
      "metadata": {
        "id": "STVE3_foNVhm"
      },
      "source": [
        "import numpy as np\n",
        "data['MonthlyIncome'] = np.log(data['MonthlyIncome'])"
      ],
      "execution_count": null,
      "outputs": []
    },
    {
      "cell_type": "code",
      "metadata": {
        "id": "U05k24TlV5co"
      },
      "source": [
        "# reduce skewness of all column using Power Transformation\n",
        "from sklearn.preprocessing import PowerTransformer\n",
        "\n",
        "pt = PowerTransformer()\n",
        "for i in data.columns:\n",
        "  if data[i].dtype != 'object':\n",
        "    if abs(data.loc[:,i].skew())>0.55:\n",
        "      data.loc[:,i] = pt.fit_transform(data.loc[:,i].values.reshape(-1,1))"
      ],
      "execution_count": null,
      "outputs": []
    },
    {
      "cell_type": "markdown",
      "metadata": {
        "id": "pMtpDBFaU4lU"
      },
      "source": [
        " - Performed PowerTransformer to reduce skewness of data."
      ]
    },
    {
      "cell_type": "code",
      "metadata": {
        "colab": {
          "base_uri": "https://localhost:8080/"
        },
        "id": "PZskqCPQTci_",
        "outputId": "7999804d-3c57-4fcb-94da-2301689bf609"
      },
      "source": [
        "# checking the skewness of data\n",
        "data.skew()"
      ],
      "execution_count": null,
      "outputs": [
        {
          "output_type": "execute_result",
          "data": {
            "text/plain": [
              "Age                         0.413286\n",
              "DailyRate                  -0.003519\n",
              "DistanceFromHome           -0.007468\n",
              "Education                  -0.289681\n",
              "EmployeeNumber              0.016574\n",
              "EnvironmentSatisfaction    -0.321654\n",
              "HourlyRate                 -0.032311\n",
              "JobInvolvement             -0.498419\n",
              "JobLevel                    0.103624\n",
              "JobSatisfaction            -0.329672\n",
              "MonthlyIncome               0.286192\n",
              "MonthlyRate                 0.018578\n",
              "NumCompaniesWorked          0.014814\n",
              "PercentSalaryHike           0.116250\n",
              "PerformanceRating           1.921883\n",
              "RelationshipSatisfaction   -0.302828\n",
              "StockOptionLevel            0.087019\n",
              "TotalWorkingYears          -0.010653\n",
              "TrainingTimesLastYear       0.058058\n",
              "WorkLifeBalance            -0.012286\n",
              "YearsAtCompany             -0.008683\n",
              "YearsInCurrentRole         -0.060849\n",
              "YearsSinceLastPromotion     0.212129\n",
              "YearsWithCurrManager       -0.067565\n",
              "dtype: float64"
            ]
          },
          "metadata": {},
          "execution_count": 30
        }
      ]
    },
    {
      "cell_type": "markdown",
      "metadata": {
        "id": "kSI_xrfcVVqI"
      },
      "source": [
        " - Skewness is reduced of all columns except PerformanceRating because it has categorical values and has 3-4 across all the rows, so we didn't do anything. "
      ]
    },
    {
      "cell_type": "code",
      "metadata": {
        "colab": {
          "base_uri": "https://localhost:8080/",
          "height": 411
        },
        "id": "fXQqnFs4VJ7q",
        "outputId": "702e661c-7b92-4f82-c7ec-c3e209706c77"
      },
      "source": [
        "import matplotlib.pyplot as plt\n",
        "import seaborn as sns\n",
        "data.iloc[:,:19].boxplot(figsize=[20,8])\n",
        "plt.subplots_adjust(bottom=0.25)\n",
        "plt.show()"
      ],
      "execution_count": null,
      "outputs": [
        {
          "output_type": "display_data",
          "data": {
            "image/png": "[encoded data removed]",
            "text/plain": [
              "<Figure size 1440x576 with 1 Axes>"
            ]
          },
          "metadata": {
            "needs_background": "light"
          }
        }
      ]
    },
    {
      "cell_type": "markdown",
      "metadata": {
        "id": "eXw0dNXVYqWz"
      },
      "source": [
        "# **Label Encoding**"
      ]
    },
    {
      "cell_type": "code",
      "metadata": {
        "id": "zWzP_PJ1Wpdn"
      },
      "source": [
        "label_list = list(data.select_dtypes('object').columns)\n",
        "from sklearn.preprocessing import LabelEncoder\n",
        "le = LabelEncoder()\n",
        "for i in label_list:\n",
        "  data[i] = le.fit_transform(data[i])"
      ],
      "execution_count": null,
      "outputs": []
    },
    {
      "cell_type": "code",
      "metadata": {
        "colab": {
          "base_uri": "https://localhost:8080/",
          "height": 224
        },
        "id": "t6PyY8RSZX9H",
        "outputId": "7cd54c8d-a846-4ace-8c7c-bd2545562ff2"
      },
      "source": [
        "data.head()"
      ],
      "execution_count": null,
      "outputs": [
        {
          "output_type": "execute_result",
          "data": {
            "text/html": [
              "<div>\n",
              "<style scoped>\n",
              "    .dataframe tbody tr th:only-of-type {\n",
              "        vertical-align: middle;\n",
              "    }\n",
              "\n",
              "    .dataframe tbody tr th {\n",
              "        vertical-align: top;\n",
              "    }\n",
              "\n",
              "    .dataframe thead th {\n",
              "        text-align: right;\n",
              "    }\n",
              "</style>\n",
              "<table border=\"1\" class=\"dataframe\">\n",
              "  <thead>\n",
              "    <tr style=\"text-align: right;\">\n",
              "      <th></th>\n",
              "      <th>Age</th>\n",
              "      <th>Attrition</th>\n",
              "      <th>BusinessTravel</th>\n",
              "      <th>DailyRate</th>\n",
              "      <th>Department</th>\n",
              "      <th>DistanceFromHome</th>\n",
              "      <th>Education</th>\n",
              "      <th>EducationField</th>\n",
              "      <th>EmployeeNumber</th>\n",
              "      <th>EnvironmentSatisfaction</th>\n",
              "      <th>Gender</th>\n",
              "      <th>HourlyRate</th>\n",
              "      <th>JobInvolvement</th>\n",
              "      <th>JobLevel</th>\n",
              "      <th>JobRole</th>\n",
              "      <th>JobSatisfaction</th>\n",
              "      <th>MaritalStatus</th>\n",
              "      <th>MonthlyIncome</th>\n",
              "      <th>MonthlyRate</th>\n",
              "      <th>NumCompaniesWorked</th>\n",
              "      <th>OverTime</th>\n",
              "      <th>PercentSalaryHike</th>\n",
              "      <th>PerformanceRating</th>\n",
              "      <th>RelationshipSatisfaction</th>\n",
              "      <th>StockOptionLevel</th>\n",
              "      <th>TotalWorkingYears</th>\n",
              "      <th>TrainingTimesLastYear</th>\n",
              "      <th>WorkLifeBalance</th>\n",
              "      <th>YearsAtCompany</th>\n",
              "      <th>YearsInCurrentRole</th>\n",
              "      <th>YearsSinceLastPromotion</th>\n",
              "      <th>YearsWithCurrManager</th>\n",
              "    </tr>\n",
              "  </thead>\n",
              "  <tbody>\n",
              "    <tr>\n",
              "      <th>442</th>\n",
              "      <td>36</td>\n",
              "      <td>0</td>\n",
              "      <td>0</td>\n",
              "      <td>635</td>\n",
              "      <td>2</td>\n",
              "      <td>0.479509</td>\n",
              "      <td>4</td>\n",
              "      <td>3</td>\n",
              "      <td>592</td>\n",
              "      <td>2</td>\n",
              "      <td>1</td>\n",
              "      <td>32</td>\n",
              "      <td>3</td>\n",
              "      <td>1.009822</td>\n",
              "      <td>7</td>\n",
              "      <td>4</td>\n",
              "      <td>2</td>\n",
              "      <td>9.208338</td>\n",
              "      <td>15318</td>\n",
              "      <td>-0.571302</td>\n",
              "      <td>0</td>\n",
              "      <td>-0.121307</td>\n",
              "      <td>-0.461767</td>\n",
              "      <td>4</td>\n",
              "      <td>-1.087933</td>\n",
              "      <td>0.052495</td>\n",
              "      <td>0.217384</td>\n",
              "      <td>-1.108624</td>\n",
              "      <td>0.762660</td>\n",
              "      <td>-0.089615</td>\n",
              "      <td>1.590412</td>\n",
              "      <td>0.909635</td>\n",
              "    </tr>\n",
              "    <tr>\n",
              "      <th>1091</th>\n",
              "      <td>33</td>\n",
              "      <td>0</td>\n",
              "      <td>2</td>\n",
              "      <td>575</td>\n",
              "      <td>1</td>\n",
              "      <td>1.503182</td>\n",
              "      <td>3</td>\n",
              "      <td>1</td>\n",
              "      <td>1545</td>\n",
              "      <td>4</td>\n",
              "      <td>1</td>\n",
              "      <td>44</td>\n",
              "      <td>2</td>\n",
              "      <td>0.241622</td>\n",
              "      <td>4</td>\n",
              "      <td>2</td>\n",
              "      <td>2</td>\n",
              "      <td>8.371011</td>\n",
              "      <td>24152</td>\n",
              "      <td>-0.571302</td>\n",
              "      <td>0</td>\n",
              "      <td>-0.499665</td>\n",
              "      <td>-0.461767</td>\n",
              "      <td>4</td>\n",
              "      <td>-1.087933</td>\n",
              "      <td>-0.792958</td>\n",
              "      <td>-0.578785</td>\n",
              "      <td>0.276821</td>\n",
              "      <td>-0.066114</td>\n",
              "      <td>-0.089615</td>\n",
              "      <td>-1.094862</td>\n",
              "      <td>-0.406881</td>\n",
              "    </tr>\n",
              "    <tr>\n",
              "      <th>981</th>\n",
              "      <td>35</td>\n",
              "      <td>1</td>\n",
              "      <td>1</td>\n",
              "      <td>662</td>\n",
              "      <td>2</td>\n",
              "      <td>1.127721</td>\n",
              "      <td>4</td>\n",
              "      <td>2</td>\n",
              "      <td>1380</td>\n",
              "      <td>4</td>\n",
              "      <td>0</td>\n",
              "      <td>67</td>\n",
              "      <td>3</td>\n",
              "      <td>0.241622</td>\n",
              "      <td>7</td>\n",
              "      <td>3</td>\n",
              "      <td>1</td>\n",
              "      <td>8.436850</td>\n",
              "      <td>23288</td>\n",
              "      <td>-1.664787</td>\n",
              "      <td>1</td>\n",
              "      <td>0.930701</td>\n",
              "      <td>-0.461767</td>\n",
              "      <td>3</td>\n",
              "      <td>0.548969</td>\n",
              "      <td>-0.792958</td>\n",
              "      <td>-2.579073</td>\n",
              "      <td>-1.108624</td>\n",
              "      <td>-0.305280</td>\n",
              "      <td>-0.446645</td>\n",
              "      <td>0.905592</td>\n",
              "      <td>-0.406881</td>\n",
              "    </tr>\n",
              "    <tr>\n",
              "      <th>785</th>\n",
              "      <td>40</td>\n",
              "      <td>0</td>\n",
              "      <td>2</td>\n",
              "      <td>1492</td>\n",
              "      <td>1</td>\n",
              "      <td>1.247250</td>\n",
              "      <td>4</td>\n",
              "      <td>5</td>\n",
              "      <td>1092</td>\n",
              "      <td>1</td>\n",
              "      <td>1</td>\n",
              "      <td>61</td>\n",
              "      <td>3</td>\n",
              "      <td>1.009822</td>\n",
              "      <td>0</td>\n",
              "      <td>4</td>\n",
              "      <td>1</td>\n",
              "      <td>9.242033</td>\n",
              "      <td>26542</td>\n",
              "      <td>0.792695</td>\n",
              "      <td>0</td>\n",
              "      <td>1.281629</td>\n",
              "      <td>2.308836</td>\n",
              "      <td>4</td>\n",
              "      <td>0.548969</td>\n",
              "      <td>0.547227</td>\n",
              "      <td>2.248381</td>\n",
              "      <td>0.276821</td>\n",
              "      <td>0.886011</td>\n",
              "      <td>1.390960</td>\n",
              "      <td>1.689587</td>\n",
              "      <td>-0.865082</td>\n",
              "    </tr>\n",
              "    <tr>\n",
              "      <th>1332</th>\n",
              "      <td>29</td>\n",
              "      <td>1</td>\n",
              "      <td>1</td>\n",
              "      <td>459</td>\n",
              "      <td>1</td>\n",
              "      <td>1.456094</td>\n",
              "      <td>2</td>\n",
              "      <td>1</td>\n",
              "      <td>1868</td>\n",
              "      <td>4</td>\n",
              "      <td>1</td>\n",
              "      <td>73</td>\n",
              "      <td>2</td>\n",
              "      <td>-1.170135</td>\n",
              "      <td>6</td>\n",
              "      <td>4</td>\n",
              "      <td>2</td>\n",
              "      <td>7.799343</td>\n",
              "      <td>14753</td>\n",
              "      <td>-0.571302</td>\n",
              "      <td>1</td>\n",
              "      <td>1.787305</td>\n",
              "      <td>2.308836</td>\n",
              "      <td>2</td>\n",
              "      <td>-1.087933</td>\n",
              "      <td>-1.988249</td>\n",
              "      <td>0.217384</td>\n",
              "      <td>-1.108624</td>\n",
              "      <td>-1.440442</td>\n",
              "      <td>-1.596434</td>\n",
              "      <td>0.096854</td>\n",
              "      <td>-1.550156</td>\n",
              "    </tr>\n",
              "  </tbody>\n",
              "</table>\n",
              "</div>"
            ],
            "text/plain": [
              "      Age  Attrition  ...  YearsSinceLastPromotion  YearsWithCurrManager\n",
              "442    36          0  ...                 1.590412              0.909635\n",
              "1091   33          0  ...                -1.094862             -0.406881\n",
              "981    35          1  ...                 0.905592             -0.406881\n",
              "785    40          0  ...                 1.689587             -0.865082\n",
              "1332   29          1  ...                 0.096854             -1.550156\n",
              "\n",
              "[5 rows x 32 columns]"
            ]
          },
          "metadata": {},
          "execution_count": 35
        }
      ]
    },
    {
      "cell_type": "code",
      "metadata": {
        "colab": {
          "base_uri": "https://localhost:8080/"
        },
        "id": "vIlL9-csaH9S",
        "outputId": "28c93efa-681e-4dc5-f136-9d00fd544a59"
      },
      "source": [
        "import numpy as np\n",
        "from scipy.stats import zscore\n",
        "z = np.abs(zscore(data))\n",
        "print(np.where(z>3))"
      ],
      "execution_count": null,
      "outputs": [
        {
          "output_type": "stream",
          "name": "stdout",
          "text": [
            "(array([], dtype=int64), array([], dtype=int64))\n"
          ]
        }
      ]
    },
    {
      "cell_type": "markdown",
      "metadata": {
        "id": "Xz0t6tMya1pz"
      },
      "source": [
        " - There are no outliers in our dataset."
      ]
    },
    {
      "cell_type": "code",
      "metadata": {
        "colab": {
          "base_uri": "https://localhost:8080/",
          "height": 317
        },
        "id": "n_XRnCSlax5q",
        "outputId": "8f204b88-f3ec-4266-dca2-316f69a90d6a"
      },
      "source": [
        "data.describe()"
      ],
      "execution_count": null,
      "outputs": [
        {
          "output_type": "execute_result",
          "data": {
            "text/html": [
              "<div>\n",
              "<style scoped>\n",
              "    .dataframe tbody tr th:only-of-type {\n",
              "        vertical-align: middle;\n",
              "    }\n",
              "\n",
              "    .dataframe tbody tr th {\n",
              "        vertical-align: top;\n",
              "    }\n",
              "\n",
              "    .dataframe thead th {\n",
              "        text-align: right;\n",
              "    }\n",
              "</style>\n",
              "<table border=\"1\" class=\"dataframe\">\n",
              "  <thead>\n",
              "    <tr style=\"text-align: right;\">\n",
              "      <th></th>\n",
              "      <th>Age</th>\n",
              "      <th>Attrition</th>\n",
              "      <th>BusinessTravel</th>\n",
              "      <th>DailyRate</th>\n",
              "      <th>Department</th>\n",
              "      <th>DistanceFromHome</th>\n",
              "      <th>Education</th>\n",
              "      <th>EducationField</th>\n",
              "      <th>EmployeeNumber</th>\n",
              "      <th>EnvironmentSatisfaction</th>\n",
              "      <th>Gender</th>\n",
              "      <th>HourlyRate</th>\n",
              "      <th>JobInvolvement</th>\n",
              "      <th>JobLevel</th>\n",
              "      <th>JobRole</th>\n",
              "      <th>JobSatisfaction</th>\n",
              "      <th>MaritalStatus</th>\n",
              "      <th>MonthlyIncome</th>\n",
              "      <th>MonthlyRate</th>\n",
              "      <th>NumCompaniesWorked</th>\n",
              "      <th>OverTime</th>\n",
              "      <th>PercentSalaryHike</th>\n",
              "      <th>PerformanceRating</th>\n",
              "      <th>RelationshipSatisfaction</th>\n",
              "      <th>StockOptionLevel</th>\n",
              "      <th>TotalWorkingYears</th>\n",
              "      <th>TrainingTimesLastYear</th>\n",
              "      <th>WorkLifeBalance</th>\n",
              "      <th>YearsAtCompany</th>\n",
              "      <th>YearsInCurrentRole</th>\n",
              "      <th>YearsSinceLastPromotion</th>\n",
              "      <th>YearsWithCurrManager</th>\n",
              "    </tr>\n",
              "  </thead>\n",
              "  <tbody>\n",
              "    <tr>\n",
              "      <th>count</th>\n",
              "      <td>1470.000000</td>\n",
              "      <td>1470.000000</td>\n",
              "      <td>1470.000000</td>\n",
              "      <td>1470.000000</td>\n",
              "      <td>1470.000000</td>\n",
              "      <td>1.470000e+03</td>\n",
              "      <td>1470.000000</td>\n",
              "      <td>1470.000000</td>\n",
              "      <td>1470.000000</td>\n",
              "      <td>1470.000000</td>\n",
              "      <td>1470.000000</td>\n",
              "      <td>1470.000000</td>\n",
              "      <td>1470.000000</td>\n",
              "      <td>1.470000e+03</td>\n",
              "      <td>1470.000000</td>\n",
              "      <td>1470.000000</td>\n",
              "      <td>1470.000000</td>\n",
              "      <td>1470.000000</td>\n",
              "      <td>1470.000000</td>\n",
              "      <td>1.470000e+03</td>\n",
              "      <td>1470.000000</td>\n",
              "      <td>1.470000e+03</td>\n",
              "      <td>1470.000000</td>\n",
              "      <td>1470.000000</td>\n",
              "      <td>1.470000e+03</td>\n",
              "      <td>1.470000e+03</td>\n",
              "      <td>1.470000e+03</td>\n",
              "      <td>1.470000e+03</td>\n",
              "      <td>1.470000e+03</td>\n",
              "      <td>1.470000e+03</td>\n",
              "      <td>1.470000e+03</td>\n",
              "      <td>1.470000e+03</td>\n",
              "    </tr>\n",
              "    <tr>\n",
              "      <th>mean</th>\n",
              "      <td>36.923810</td>\n",
              "      <td>0.161224</td>\n",
              "      <td>1.607483</td>\n",
              "      <td>802.485714</td>\n",
              "      <td>1.260544</td>\n",
              "      <td>-4.660671e-16</td>\n",
              "      <td>2.912925</td>\n",
              "      <td>2.247619</td>\n",
              "      <td>1024.865306</td>\n",
              "      <td>2.721769</td>\n",
              "      <td>0.600000</td>\n",
              "      <td>65.891156</td>\n",
              "      <td>2.729932</td>\n",
              "      <td>-9.658185e-16</td>\n",
              "      <td>4.458503</td>\n",
              "      <td>2.728571</td>\n",
              "      <td>1.097279</td>\n",
              "      <td>8.552515</td>\n",
              "      <td>14313.103401</td>\n",
              "      <td>6.447979e-17</td>\n",
              "      <td>0.282993</td>\n",
              "      <td>-1.499602e-14</td>\n",
              "      <td>-0.035811</td>\n",
              "      <td>2.712245</td>\n",
              "      <td>-6.026925e-17</td>\n",
              "      <td>-3.103338e-16</td>\n",
              "      <td>-8.734510e-16</td>\n",
              "      <td>-7.313877e-16</td>\n",
              "      <td>-1.468213e-16</td>\n",
              "      <td>-1.537697e-16</td>\n",
              "      <td>1.652495e-16</td>\n",
              "      <td>1.253721e-17</td>\n",
              "    </tr>\n",
              "    <tr>\n",
              "      <th>std</th>\n",
              "      <td>9.135373</td>\n",
              "      <td>0.367863</td>\n",
              "      <td>0.665455</td>\n",
              "      <td>403.509100</td>\n",
              "      <td>0.527792</td>\n",
              "      <td>1.000340e+00</td>\n",
              "      <td>1.024165</td>\n",
              "      <td>1.331369</td>\n",
              "      <td>602.024335</td>\n",
              "      <td>1.093082</td>\n",
              "      <td>0.490065</td>\n",
              "      <td>20.329428</td>\n",
              "      <td>0.711561</td>\n",
              "      <td>1.000340e+00</td>\n",
              "      <td>2.461821</td>\n",
              "      <td>1.102846</td>\n",
              "      <td>0.730121</td>\n",
              "      <td>0.664450</td>\n",
              "      <td>7117.786044</td>\n",
              "      <td>1.000340e+00</td>\n",
              "      <td>0.450606</td>\n",
              "      <td>1.000340e+00</td>\n",
              "      <td>0.999699</td>\n",
              "      <td>1.081209</td>\n",
              "      <td>1.000340e+00</td>\n",
              "      <td>1.000340e+00</td>\n",
              "      <td>1.000340e+00</td>\n",
              "      <td>1.000340e+00</td>\n",
              "      <td>1.000340e+00</td>\n",
              "      <td>1.000340e+00</td>\n",
              "      <td>1.000340e+00</td>\n",
              "      <td>1.000340e+00</td>\n",
              "    </tr>\n",
              "    <tr>\n",
              "      <th>min</th>\n",
              "      <td>18.000000</td>\n",
              "      <td>0.000000</td>\n",
              "      <td>0.000000</td>\n",
              "      <td>102.000000</td>\n",
              "      <td>0.000000</td>\n",
              "      <td>-1.494085e+00</td>\n",
              "      <td>1.000000</td>\n",
              "      <td>0.000000</td>\n",
              "      <td>1.000000</td>\n",
              "      <td>1.000000</td>\n",
              "      <td>0.000000</td>\n",
              "      <td>30.000000</td>\n",
              "      <td>1.000000</td>\n",
              "      <td>-1.170135e+00</td>\n",
              "      <td>0.000000</td>\n",
              "      <td>1.000000</td>\n",
              "      <td>0.000000</td>\n",
              "      <td>6.916715</td>\n",
              "      <td>2094.000000</td>\n",
              "      <td>-1.664787e+00</td>\n",
              "      <td>0.000000</td>\n",
              "      <td>-1.488918e+00</td>\n",
              "      <td>-0.461767</td>\n",
              "      <td>1.000000</td>\n",
              "      <td>-1.087933e+00</td>\n",
              "      <td>-2.565715e+00</td>\n",
              "      <td>-2.579073e+00</td>\n",
              "      <td>-2.144446e+00</td>\n",
              "      <td>-2.229592e+00</td>\n",
              "      <td>-1.596434e+00</td>\n",
              "      <td>-1.094862e+00</td>\n",
              "      <td>-1.550156e+00</td>\n",
              "    </tr>\n",
              "    <tr>\n",
              "      <th>25%</th>\n",
              "      <td>30.000000</td>\n",
              "      <td>0.000000</td>\n",
              "      <td>1.000000</td>\n",
              "      <td>465.000000</td>\n",
              "      <td>1.000000</td>\n",
              "      <td>-1.031215e+00</td>\n",
              "      <td>2.000000</td>\n",
              "      <td>1.000000</td>\n",
              "      <td>491.250000</td>\n",
              "      <td>2.000000</td>\n",
              "      <td>0.000000</td>\n",
              "      <td>48.000000</td>\n",
              "      <td>2.000000</td>\n",
              "      <td>-1.170135e+00</td>\n",
              "      <td>2.000000</td>\n",
              "      <td>2.000000</td>\n",
              "      <td>1.000000</td>\n",
              "      <td>7.976252</td>\n",
              "      <td>8047.000000</td>\n",
              "      <td>-5.713019e-01</td>\n",
              "      <td>0.000000</td>\n",
              "      <td>-9.487596e-01</td>\n",
              "      <td>-0.461767</td>\n",
              "      <td>2.000000</td>\n",
              "      <td>-1.087933e+00</td>\n",
              "      <td>-5.920630e-01</td>\n",
              "      <td>-5.787848e-01</td>\n",
              "      <td>-1.108624e+00</td>\n",
              "      <td>-5.918447e-01</td>\n",
              "      <td>-4.466451e-01</td>\n",
              "      <td>-1.094862e+00</td>\n",
              "      <td>-4.068812e-01</td>\n",
              "    </tr>\n",
              "    <tr>\n",
              "      <th>50%</th>\n",
              "      <td>36.000000</td>\n",
              "      <td>0.000000</td>\n",
              "      <td>2.000000</td>\n",
              "      <td>802.000000</td>\n",
              "      <td>1.000000</td>\n",
              "      <td>1.053155e-01</td>\n",
              "      <td>3.000000</td>\n",
              "      <td>2.000000</td>\n",
              "      <td>1020.500000</td>\n",
              "      <td>3.000000</td>\n",
              "      <td>1.000000</td>\n",
              "      <td>66.000000</td>\n",
              "      <td>3.000000</td>\n",
              "      <td>2.416221e-01</td>\n",
              "      <td>5.000000</td>\n",
              "      <td>3.000000</td>\n",
              "      <td>1.000000</td>\n",
              "      <td>8.500858</td>\n",
              "      <td>14235.500000</td>\n",
              "      <td>4.342339e-02</td>\n",
              "      <td>0.000000</td>\n",
              "      <td>-1.213068e-01</td>\n",
              "      <td>-0.461767</td>\n",
              "      <td>3.000000</td>\n",
              "      <td>5.489691e-01</td>\n",
              "      <td>5.249456e-02</td>\n",
              "      <td>2.173842e-01</td>\n",
              "      <td>2.768212e-01</td>\n",
              "      <td>-6.611444e-02</td>\n",
              "      <td>-8.961473e-02</td>\n",
              "      <td>9.685416e-02</td>\n",
              "      <td>-5.300032e-02</td>\n",
              "    </tr>\n",
              "    <tr>\n",
              "      <th>75%</th>\n",
              "      <td>43.000000</td>\n",
              "      <td>0.000000</td>\n",
              "      <td>2.000000</td>\n",
              "      <td>1157.000000</td>\n",
              "      <td>2.000000</td>\n",
              "      <td>8.464235e-01</td>\n",
              "      <td>4.000000</td>\n",
              "      <td>3.000000</td>\n",
              "      <td>1555.750000</td>\n",
              "      <td>4.000000</td>\n",
              "      <td>1.000000</td>\n",
              "      <td>83.750000</td>\n",
              "      <td>3.000000</td>\n",
              "      <td>1.009822e+00</td>\n",
              "      <td>7.000000</td>\n",
              "      <td>4.000000</td>\n",
              "      <td>2.000000</td>\n",
              "      <td>9.033484</td>\n",
              "      <td>20461.500000</td>\n",
              "      <td>7.926945e-01</td>\n",
              "      <td>1.000000</td>\n",
              "      <td>9.307014e-01</td>\n",
              "      <td>-0.461767</td>\n",
              "      <td>4.000000</td>\n",
              "      <td>5.489691e-01</td>\n",
              "      <td>6.559876e-01</td>\n",
              "      <td>2.173842e-01</td>\n",
              "      <td>2.768212e-01</td>\n",
              "      <td>6.288288e-01</td>\n",
              "      <td>8.838880e-01</td>\n",
              "      <td>9.055925e-01</td>\n",
              "      <td>9.096349e-01</td>\n",
              "    </tr>\n",
              "    <tr>\n",
              "      <th>max</th>\n",
              "      <td>60.000000</td>\n",
              "      <td>1.000000</td>\n",
              "      <td>2.000000</td>\n",
              "      <td>1499.000000</td>\n",
              "      <td>2.000000</td>\n",
              "      <td>1.675323e+00</td>\n",
              "      <td>5.000000</td>\n",
              "      <td>5.000000</td>\n",
              "      <td>2068.000000</td>\n",
              "      <td>4.000000</td>\n",
              "      <td>1.000000</td>\n",
              "      <td>100.000000</td>\n",
              "      <td>4.000000</td>\n",
              "      <td>1.843456e+00</td>\n",
              "      <td>8.000000</td>\n",
              "      <td>4.000000</td>\n",
              "      <td>2.000000</td>\n",
              "      <td>9.903438</td>\n",
              "      <td>26999.000000</td>\n",
              "      <td>1.766182e+00</td>\n",
              "      <td>1.000000</td>\n",
              "      <td>1.885084e+00</td>\n",
              "      <td>2.308836</td>\n",
              "      <td>4.000000</td>\n",
              "      <td>1.785018e+00</td>\n",
              "      <td>2.501157e+00</td>\n",
              "      <td>2.248381e+00</td>\n",
              "      <td>1.998177e+00</td>\n",
              "      <td>2.753392e+00</td>\n",
              "      <td>2.361135e+00</td>\n",
              "      <td>1.826888e+00</td>\n",
              "      <td>2.264669e+00</td>\n",
              "    </tr>\n",
              "  </tbody>\n",
              "</table>\n",
              "</div>"
            ],
            "text/plain": [
              "               Age    Attrition  ...  YearsSinceLastPromotion  YearsWithCurrManager\n",
              "count  1470.000000  1470.000000  ...             1.470000e+03          1.470000e+03\n",
              "mean     36.923810     0.161224  ...             1.652495e-16          1.253721e-17\n",
              "std       9.135373     0.367863  ...             1.000340e+00          1.000340e+00\n",
              "min      18.000000     0.000000  ...            -1.094862e+00         -1.550156e+00\n",
              "25%      30.000000     0.000000  ...            -1.094862e+00         -4.068812e-01\n",
              "50%      36.000000     0.000000  ...             9.685416e-02         -5.300032e-02\n",
              "75%      43.000000     0.000000  ...             9.055925e-01          9.096349e-01\n",
              "max      60.000000     1.000000  ...             1.826888e+00          2.264669e+00\n",
              "\n",
              "[8 rows x 32 columns]"
            ]
          },
          "metadata": {},
          "execution_count": 37
        }
      ]
    },
    {
      "cell_type": "markdown",
      "metadata": {
        "id": "9-jiy8a_cCUz"
      },
      "source": [
        "# **Split the X & Y**"
      ]
    },
    {
      "cell_type": "code",
      "metadata": {
        "id": "1c8L6sJKa7Hk"
      },
      "source": [
        "y = data['Attrition']"
      ],
      "execution_count": null,
      "outputs": []
    },
    {
      "cell_type": "code",
      "metadata": {
        "id": "6sJudAyHbuTY"
      },
      "source": [
        "x = data.drop('Attrition', axis=1, inplace=True)"
      ],
      "execution_count": null,
      "outputs": []
    },
    {
      "cell_type": "code",
      "metadata": {
        "colab": {
          "base_uri": "https://localhost:8080/",
          "height": 224
        },
        "id": "ww1M3aiLhUh9",
        "outputId": "621d0f4e-2047-44c5-9f2a-b4557c398d7e"
      },
      "source": [
        "data.head()"
      ],
      "execution_count": null,
      "outputs": [
        {
          "output_type": "execute_result",
          "data": {
            "text/html": [
              "<div>\n",
              "<style scoped>\n",
              "    .dataframe tbody tr th:only-of-type {\n",
              "        vertical-align: middle;\n",
              "    }\n",
              "\n",
              "    .dataframe tbody tr th {\n",
              "        vertical-align: top;\n",
              "    }\n",
              "\n",
              "    .dataframe thead th {\n",
              "        text-align: right;\n",
              "    }\n",
              "</style>\n",
              "<table border=\"1\" class=\"dataframe\">\n",
              "  <thead>\n",
              "    <tr style=\"text-align: right;\">\n",
              "      <th></th>\n",
              "      <th>Age</th>\n",
              "      <th>BusinessTravel</th>\n",
              "      <th>DailyRate</th>\n",
              "      <th>Department</th>\n",
              "      <th>DistanceFromHome</th>\n",
              "      <th>Education</th>\n",
              "      <th>EducationField</th>\n",
              "      <th>EmployeeNumber</th>\n",
              "      <th>EnvironmentSatisfaction</th>\n",
              "      <th>Gender</th>\n",
              "      <th>HourlyRate</th>\n",
              "      <th>JobInvolvement</th>\n",
              "      <th>JobLevel</th>\n",
              "      <th>JobRole</th>\n",
              "      <th>JobSatisfaction</th>\n",
              "      <th>MaritalStatus</th>\n",
              "      <th>MonthlyIncome</th>\n",
              "      <th>MonthlyRate</th>\n",
              "      <th>NumCompaniesWorked</th>\n",
              "      <th>OverTime</th>\n",
              "      <th>PercentSalaryHike</th>\n",
              "      <th>PerformanceRating</th>\n",
              "      <th>RelationshipSatisfaction</th>\n",
              "      <th>StockOptionLevel</th>\n",
              "      <th>TotalWorkingYears</th>\n",
              "      <th>TrainingTimesLastYear</th>\n",
              "      <th>WorkLifeBalance</th>\n",
              "      <th>YearsAtCompany</th>\n",
              "      <th>YearsInCurrentRole</th>\n",
              "      <th>YearsSinceLastPromotion</th>\n",
              "      <th>YearsWithCurrManager</th>\n",
              "    </tr>\n",
              "  </thead>\n",
              "  <tbody>\n",
              "    <tr>\n",
              "      <th>442</th>\n",
              "      <td>36</td>\n",
              "      <td>0</td>\n",
              "      <td>635</td>\n",
              "      <td>2</td>\n",
              "      <td>0.479509</td>\n",
              "      <td>4</td>\n",
              "      <td>3</td>\n",
              "      <td>592</td>\n",
              "      <td>2</td>\n",
              "      <td>1</td>\n",
              "      <td>32</td>\n",
              "      <td>3</td>\n",
              "      <td>1.009822</td>\n",
              "      <td>7</td>\n",
              "      <td>4</td>\n",
              "      <td>2</td>\n",
              "      <td>9.208338</td>\n",
              "      <td>15318</td>\n",
              "      <td>-0.571302</td>\n",
              "      <td>0</td>\n",
              "      <td>-0.121307</td>\n",
              "      <td>-0.461767</td>\n",
              "      <td>4</td>\n",
              "      <td>-1.087933</td>\n",
              "      <td>0.052495</td>\n",
              "      <td>0.217384</td>\n",
              "      <td>-1.108624</td>\n",
              "      <td>0.762660</td>\n",
              "      <td>-0.089615</td>\n",
              "      <td>1.590412</td>\n",
              "      <td>0.909635</td>\n",
              "    </tr>\n",
              "    <tr>\n",
              "      <th>1091</th>\n",
              "      <td>33</td>\n",
              "      <td>2</td>\n",
              "      <td>575</td>\n",
              "      <td>1</td>\n",
              "      <td>1.503182</td>\n",
              "      <td>3</td>\n",
              "      <td>1</td>\n",
              "      <td>1545</td>\n",
              "      <td>4</td>\n",
              "      <td>1</td>\n",
              "      <td>44</td>\n",
              "      <td>2</td>\n",
              "      <td>0.241622</td>\n",
              "      <td>4</td>\n",
              "      <td>2</td>\n",
              "      <td>2</td>\n",
              "      <td>8.371011</td>\n",
              "      <td>24152</td>\n",
              "      <td>-0.571302</td>\n",
              "      <td>0</td>\n",
              "      <td>-0.499665</td>\n",
              "      <td>-0.461767</td>\n",
              "      <td>4</td>\n",
              "      <td>-1.087933</td>\n",
              "      <td>-0.792958</td>\n",
              "      <td>-0.578785</td>\n",
              "      <td>0.276821</td>\n",
              "      <td>-0.066114</td>\n",
              "      <td>-0.089615</td>\n",
              "      <td>-1.094862</td>\n",
              "      <td>-0.406881</td>\n",
              "    </tr>\n",
              "    <tr>\n",
              "      <th>981</th>\n",
              "      <td>35</td>\n",
              "      <td>1</td>\n",
              "      <td>662</td>\n",
              "      <td>2</td>\n",
              "      <td>1.127721</td>\n",
              "      <td>4</td>\n",
              "      <td>2</td>\n",
              "      <td>1380</td>\n",
              "      <td>4</td>\n",
              "      <td>0</td>\n",
              "      <td>67</td>\n",
              "      <td>3</td>\n",
              "      <td>0.241622</td>\n",
              "      <td>7</td>\n",
              "      <td>3</td>\n",
              "      <td>1</td>\n",
              "      <td>8.436850</td>\n",
              "      <td>23288</td>\n",
              "      <td>-1.664787</td>\n",
              "      <td>1</td>\n",
              "      <td>0.930701</td>\n",
              "      <td>-0.461767</td>\n",
              "      <td>3</td>\n",
              "      <td>0.548969</td>\n",
              "      <td>-0.792958</td>\n",
              "      <td>-2.579073</td>\n",
              "      <td>-1.108624</td>\n",
              "      <td>-0.305280</td>\n",
              "      <td>-0.446645</td>\n",
              "      <td>0.905592</td>\n",
              "      <td>-0.406881</td>\n",
              "    </tr>\n",
              "    <tr>\n",
              "      <th>785</th>\n",
              "      <td>40</td>\n",
              "      <td>2</td>\n",
              "      <td>1492</td>\n",
              "      <td>1</td>\n",
              "      <td>1.247250</td>\n",
              "      <td>4</td>\n",
              "      <td>5</td>\n",
              "      <td>1092</td>\n",
              "      <td>1</td>\n",
              "      <td>1</td>\n",
              "      <td>61</td>\n",
              "      <td>3</td>\n",
              "      <td>1.009822</td>\n",
              "      <td>0</td>\n",
              "      <td>4</td>\n",
              "      <td>1</td>\n",
              "      <td>9.242033</td>\n",
              "      <td>26542</td>\n",
              "      <td>0.792695</td>\n",
              "      <td>0</td>\n",
              "      <td>1.281629</td>\n",
              "      <td>2.308836</td>\n",
              "      <td>4</td>\n",
              "      <td>0.548969</td>\n",
              "      <td>0.547227</td>\n",
              "      <td>2.248381</td>\n",
              "      <td>0.276821</td>\n",
              "      <td>0.886011</td>\n",
              "      <td>1.390960</td>\n",
              "      <td>1.689587</td>\n",
              "      <td>-0.865082</td>\n",
              "    </tr>\n",
              "    <tr>\n",
              "      <th>1332</th>\n",
              "      <td>29</td>\n",
              "      <td>1</td>\n",
              "      <td>459</td>\n",
              "      <td>1</td>\n",
              "      <td>1.456094</td>\n",
              "      <td>2</td>\n",
              "      <td>1</td>\n",
              "      <td>1868</td>\n",
              "      <td>4</td>\n",
              "      <td>1</td>\n",
              "      <td>73</td>\n",
              "      <td>2</td>\n",
              "      <td>-1.170135</td>\n",
              "      <td>6</td>\n",
              "      <td>4</td>\n",
              "      <td>2</td>\n",
              "      <td>7.799343</td>\n",
              "      <td>14753</td>\n",
              "      <td>-0.571302</td>\n",
              "      <td>1</td>\n",
              "      <td>1.787305</td>\n",
              "      <td>2.308836</td>\n",
              "      <td>2</td>\n",
              "      <td>-1.087933</td>\n",
              "      <td>-1.988249</td>\n",
              "      <td>0.217384</td>\n",
              "      <td>-1.108624</td>\n",
              "      <td>-1.440442</td>\n",
              "      <td>-1.596434</td>\n",
              "      <td>0.096854</td>\n",
              "      <td>-1.550156</td>\n",
              "    </tr>\n",
              "  </tbody>\n",
              "</table>\n",
              "</div>"
            ],
            "text/plain": [
              "      Age  BusinessTravel  ...  YearsSinceLastPromotion  YearsWithCurrManager\n",
              "442    36               0  ...                 1.590412              0.909635\n",
              "1091   33               2  ...                -1.094862             -0.406881\n",
              "981    35               1  ...                 0.905592             -0.406881\n",
              "785    40               2  ...                 1.689587             -0.865082\n",
              "1332   29               1  ...                 0.096854             -1.550156\n",
              "\n",
              "[5 rows x 31 columns]"
            ]
          },
          "metadata": {},
          "execution_count": 43
        }
      ]
    },
    {
      "cell_type": "code",
      "metadata": {
        "id": "z9RBcpVihkUF"
      },
      "source": [
        "x = data"
      ],
      "execution_count": null,
      "outputs": []
    },
    {
      "cell_type": "markdown",
      "metadata": {
        "id": "R9nPA0MldSF0"
      },
      "source": [
        "# **Scaling**"
      ]
    },
    {
      "cell_type": "code",
      "metadata": {
        "colab": {
          "base_uri": "https://localhost:8080/"
        },
        "id": "p9-O12ZOb8J8",
        "outputId": "80a4b077-4759-4124-d2f0-552d7e58a3be"
      },
      "source": [
        "from sklearn.preprocessing import StandardScaler\n",
        "scaler = StandardScaler()\n",
        "scale_data = scaler.fit_transform(x)\n",
        "scale_data"
      ],
      "execution_count": null,
      "outputs": [
        {
          "output_type": "execute_result",
          "data": {
            "text/plain": [
              "array([[-0.10115885, -2.41643713, -0.41521421, ..., -0.08961473,\n",
              "         1.59041241,  0.90963491],\n",
              "       [-0.42966441,  0.59004834, -0.56396034, ..., -0.08961473,\n",
              "        -1.09486169, -0.40688122],\n",
              "       [-0.2106607 , -0.91319439, -0.34827845, ..., -0.44664507,\n",
              "         0.90559245, -0.40688122],\n",
              "       ...,\n",
              "       [ 0.66535411,  0.59004834,  0.93341741, ...,  1.23494119,\n",
              "         1.52831769,  1.09011006],\n",
              "       [ 0.11784485,  0.59004834, -1.32504473, ..., -1.59643394,\n",
              "        -1.09486169, -0.86508185],\n",
              "       [ 0.33684855,  0.59004834, -0.35819486, ..., -1.59643394,\n",
              "        -1.09486169, -1.55015588]])"
            ]
          },
          "metadata": {},
          "execution_count": 45
        }
      ]
    },
    {
      "cell_type": "code",
      "metadata": {
        "colab": {
          "base_uri": "https://localhost:8080/"
        },
        "id": "ybSX_rnYfLjE",
        "outputId": "a19d3acf-c8db-40fb-da06-2798859950e6"
      },
      "source": [
        "# check the shape\n",
        "scale_data.shape"
      ],
      "execution_count": null,
      "outputs": [
        {
          "output_type": "execute_result",
          "data": {
            "text/plain": [
              "(1470, 31)"
            ]
          },
          "metadata": {},
          "execution_count": 47
        }
      ]
    },
    {
      "cell_type": "code",
      "metadata": {
        "id": "4baVmbSfhynk"
      },
      "source": [
        "# setting up the column after scaling\n",
        "x = pd.DataFrame(scale_data, index=x.index, columns=x.columns)"
      ],
      "execution_count": null,
      "outputs": []
    },
    {
      "cell_type": "code",
      "metadata": {
        "colab": {
          "base_uri": "https://localhost:8080/",
          "height": 224
        },
        "id": "hJIG90InkkSo",
        "outputId": "1dae46cc-e854-4b45-b603-3fab9767a175"
      },
      "source": [
        "x.head()"
      ],
      "execution_count": null,
      "outputs": [
        {
          "output_type": "execute_result",
          "data": {
            "text/html": [
              "<div>\n",
              "<style scoped>\n",
              "    .dataframe tbody tr th:only-of-type {\n",
              "        vertical-align: middle;\n",
              "    }\n",
              "\n",
              "    .dataframe tbody tr th {\n",
              "        vertical-align: top;\n",
              "    }\n",
              "\n",
              "    .dataframe thead th {\n",
              "        text-align: right;\n",
              "    }\n",
              "</style>\n",
              "<table border=\"1\" class=\"dataframe\">\n",
              "  <thead>\n",
              "    <tr style=\"text-align: right;\">\n",
              "      <th></th>\n",
              "      <th>Age</th>\n",
              "      <th>BusinessTravel</th>\n",
              "      <th>DailyRate</th>\n",
              "      <th>Department</th>\n",
              "      <th>DistanceFromHome</th>\n",
              "      <th>Education</th>\n",
              "      <th>EducationField</th>\n",
              "      <th>EmployeeNumber</th>\n",
              "      <th>EnvironmentSatisfaction</th>\n",
              "      <th>Gender</th>\n",
              "      <th>HourlyRate</th>\n",
              "      <th>JobInvolvement</th>\n",
              "      <th>JobLevel</th>\n",
              "      <th>JobRole</th>\n",
              "      <th>JobSatisfaction</th>\n",
              "      <th>MaritalStatus</th>\n",
              "      <th>MonthlyIncome</th>\n",
              "      <th>MonthlyRate</th>\n",
              "      <th>NumCompaniesWorked</th>\n",
              "      <th>OverTime</th>\n",
              "      <th>PercentSalaryHike</th>\n",
              "      <th>PerformanceRating</th>\n",
              "      <th>RelationshipSatisfaction</th>\n",
              "      <th>StockOptionLevel</th>\n",
              "      <th>TotalWorkingYears</th>\n",
              "      <th>TrainingTimesLastYear</th>\n",
              "      <th>WorkLifeBalance</th>\n",
              "      <th>YearsAtCompany</th>\n",
              "      <th>YearsInCurrentRole</th>\n",
              "      <th>YearsSinceLastPromotion</th>\n",
              "      <th>YearsWithCurrManager</th>\n",
              "    </tr>\n",
              "  </thead>\n",
              "  <tbody>\n",
              "    <tr>\n",
              "      <th>442</th>\n",
              "      <td>-0.101159</td>\n",
              "      <td>-2.416437</td>\n",
              "      <td>-0.415214</td>\n",
              "      <td>1.401512</td>\n",
              "      <td>0.479509</td>\n",
              "      <td>1.061787</td>\n",
              "      <td>0.565311</td>\n",
              "      <td>-0.719261</td>\n",
              "      <td>-0.660531</td>\n",
              "      <td>0.816497</td>\n",
              "      <td>-1.667666</td>\n",
              "      <td>0.379672</td>\n",
              "      <td>1.009822</td>\n",
              "      <td>1.032716</td>\n",
              "      <td>1.153254</td>\n",
              "      <td>1.236820</td>\n",
              "      <td>0.987352</td>\n",
              "      <td>0.141229</td>\n",
              "      <td>-0.571302</td>\n",
              "      <td>-0.628241</td>\n",
              "      <td>-0.121307</td>\n",
              "      <td>-0.426230</td>\n",
              "      <td>1.191438</td>\n",
              "      <td>-1.087933</td>\n",
              "      <td>0.052495</td>\n",
              "      <td>0.217384</td>\n",
              "      <td>-1.108624</td>\n",
              "      <td>0.762660</td>\n",
              "      <td>-0.089615</td>\n",
              "      <td>1.590412</td>\n",
              "      <td>0.909635</td>\n",
              "    </tr>\n",
              "    <tr>\n",
              "      <th>1091</th>\n",
              "      <td>-0.429664</td>\n",
              "      <td>0.590048</td>\n",
              "      <td>-0.563960</td>\n",
              "      <td>-0.493817</td>\n",
              "      <td>1.503182</td>\n",
              "      <td>0.085049</td>\n",
              "      <td>-0.937414</td>\n",
              "      <td>0.864270</td>\n",
              "      <td>1.169781</td>\n",
              "      <td>0.816497</td>\n",
              "      <td>-1.077188</td>\n",
              "      <td>-1.026167</td>\n",
              "      <td>0.241622</td>\n",
              "      <td>-0.186309</td>\n",
              "      <td>-0.660853</td>\n",
              "      <td>1.236820</td>\n",
              "      <td>-0.273258</td>\n",
              "      <td>1.382768</td>\n",
              "      <td>-0.571302</td>\n",
              "      <td>-0.628241</td>\n",
              "      <td>-0.499665</td>\n",
              "      <td>-0.426230</td>\n",
              "      <td>1.191438</td>\n",
              "      <td>-1.087933</td>\n",
              "      <td>-0.792958</td>\n",
              "      <td>-0.578785</td>\n",
              "      <td>0.276821</td>\n",
              "      <td>-0.066114</td>\n",
              "      <td>-0.089615</td>\n",
              "      <td>-1.094862</td>\n",
              "      <td>-0.406881</td>\n",
              "    </tr>\n",
              "    <tr>\n",
              "      <th>981</th>\n",
              "      <td>-0.210661</td>\n",
              "      <td>-0.913194</td>\n",
              "      <td>-0.348278</td>\n",
              "      <td>1.401512</td>\n",
              "      <td>1.127721</td>\n",
              "      <td>1.061787</td>\n",
              "      <td>-0.186052</td>\n",
              "      <td>0.590102</td>\n",
              "      <td>1.169781</td>\n",
              "      <td>-1.224745</td>\n",
              "      <td>0.054562</td>\n",
              "      <td>0.379672</td>\n",
              "      <td>0.241622</td>\n",
              "      <td>1.032716</td>\n",
              "      <td>0.246200</td>\n",
              "      <td>-0.133282</td>\n",
              "      <td>-0.174135</td>\n",
              "      <td>1.261340</td>\n",
              "      <td>-1.664787</td>\n",
              "      <td>1.591746</td>\n",
              "      <td>0.930701</td>\n",
              "      <td>-0.426230</td>\n",
              "      <td>0.266233</td>\n",
              "      <td>0.548969</td>\n",
              "      <td>-0.792958</td>\n",
              "      <td>-2.579073</td>\n",
              "      <td>-1.108624</td>\n",
              "      <td>-0.305280</td>\n",
              "      <td>-0.446645</td>\n",
              "      <td>0.905592</td>\n",
              "      <td>-0.406881</td>\n",
              "    </tr>\n",
              "    <tr>\n",
              "      <th>785</th>\n",
              "      <td>0.336849</td>\n",
              "      <td>0.590048</td>\n",
              "      <td>1.709376</td>\n",
              "      <td>-0.493817</td>\n",
              "      <td>1.247250</td>\n",
              "      <td>1.061787</td>\n",
              "      <td>2.068035</td>\n",
              "      <td>0.111553</td>\n",
              "      <td>-1.575686</td>\n",
              "      <td>0.816497</td>\n",
              "      <td>-0.240677</td>\n",
              "      <td>0.379672</td>\n",
              "      <td>1.009822</td>\n",
              "      <td>-1.811675</td>\n",
              "      <td>1.153254</td>\n",
              "      <td>-0.133282</td>\n",
              "      <td>1.038079</td>\n",
              "      <td>1.718661</td>\n",
              "      <td>0.792695</td>\n",
              "      <td>-0.628241</td>\n",
              "      <td>1.281629</td>\n",
              "      <td>2.346151</td>\n",
              "      <td>1.191438</td>\n",
              "      <td>0.548969</td>\n",
              "      <td>0.547227</td>\n",
              "      <td>2.248381</td>\n",
              "      <td>0.276821</td>\n",
              "      <td>0.886011</td>\n",
              "      <td>1.390960</td>\n",
              "      <td>1.689587</td>\n",
              "      <td>-0.865082</td>\n",
              "    </tr>\n",
              "    <tr>\n",
              "      <th>1332</th>\n",
              "      <td>-0.867672</td>\n",
              "      <td>-0.913194</td>\n",
              "      <td>-0.851536</td>\n",
              "      <td>-0.493817</td>\n",
              "      <td>1.456094</td>\n",
              "      <td>-0.891688</td>\n",
              "      <td>-0.937414</td>\n",
              "      <td>1.400976</td>\n",
              "      <td>1.169781</td>\n",
              "      <td>0.816497</td>\n",
              "      <td>0.349801</td>\n",
              "      <td>-1.026167</td>\n",
              "      <td>-1.170135</td>\n",
              "      <td>0.626374</td>\n",
              "      <td>1.153254</td>\n",
              "      <td>1.236820</td>\n",
              "      <td>-1.133912</td>\n",
              "      <td>0.061823</td>\n",
              "      <td>-0.571302</td>\n",
              "      <td>1.591746</td>\n",
              "      <td>1.787305</td>\n",
              "      <td>2.346151</td>\n",
              "      <td>-0.658973</td>\n",
              "      <td>-1.087933</td>\n",
              "      <td>-1.988249</td>\n",
              "      <td>0.217384</td>\n",
              "      <td>-1.108624</td>\n",
              "      <td>-1.440442</td>\n",
              "      <td>-1.596434</td>\n",
              "      <td>0.096854</td>\n",
              "      <td>-1.550156</td>\n",
              "    </tr>\n",
              "  </tbody>\n",
              "</table>\n",
              "</div>"
            ],
            "text/plain": [
              "           Age  BusinessTravel  ...  YearsSinceLastPromotion  YearsWithCurrManager\n",
              "442  -0.101159       -2.416437  ...                 1.590412              0.909635\n",
              "1091 -0.429664        0.590048  ...                -1.094862             -0.406881\n",
              "981  -0.210661       -0.913194  ...                 0.905592             -0.406881\n",
              "785   0.336849        0.590048  ...                 1.689587             -0.865082\n",
              "1332 -0.867672       -0.913194  ...                 0.096854             -1.550156\n",
              "\n",
              "[5 rows x 31 columns]"
            ]
          },
          "metadata": {},
          "execution_count": 50
        }
      ]
    },
    {
      "cell_type": "markdown",
      "metadata": {
        "id": "a6UpzHYIlCUS"
      },
      "source": [
        "# **Finding Best Random State**"
      ]
    },
    {
      "cell_type": "code",
      "metadata": {
        "id": "5FAq7bGLkp8H",
        "colab": {
          "base_uri": "https://localhost:8080/"
        },
        "outputId": "ab618d57-2ee1-46ac-b5a8-dbc5af408628"
      },
      "source": [
        "from sklearn.model_selection import train_test_split\n",
        "from sklearn.linear_model import LogisticRegression\n",
        "from sklearn.metrics import accuracy_score, confusion_matrix, classification_report, auc\n",
        "\n",
        "import warnings\n",
        "warnings.filterwarnings('ignore')\n",
        "\n",
        "maxACC = 0\n",
        "maxRS = 0\n",
        "\n",
        "for i in range(1,200):\n",
        "  x_train,x_test,y_train,y_test = train_test_split(x, y, test_size=0.30, random_state=i)\n",
        "  lr = LogisticRegression()\n",
        "  lr.fit(x_train,y_train)\n",
        "  predrf = lr.predict(x_test)\n",
        "  acc = accuracy_score(y_test,predrf)\n",
        "  if acc>maxACC:\n",
        "    maxACC = acc\n",
        "    maxRS = i\n",
        "print('Best accuracy is',maxACC,'on Random_state',maxRS)"
      ],
      "execution_count": 56,
      "outputs": [
        {
          "output_type": "stream",
          "name": "stdout",
          "text": [
            "Best accuracy is 0.9160997732426304 on Random_state 21\n"
          ]
        }
      ]
    },
    {
      "cell_type": "markdown",
      "metadata": {
        "id": "3hHLFUips-02"
      },
      "source": [
        "# **Train Test Split**"
      ]
    },
    {
      "cell_type": "code",
      "metadata": {
        "id": "tXZ82VevsOp0"
      },
      "source": [
        "x_train,x_test,y_train,y_test = train_test_split(x, y, test_size=0.30, random_state=maxRS)"
      ],
      "execution_count": 57,
      "outputs": []
    },
    {
      "cell_type": "markdown",
      "metadata": {
        "id": "bhJNkKcptY4F"
      },
      "source": [
        "# **Finding Best Algorithm**"
      ]
    },
    {
      "cell_type": "code",
      "metadata": {
        "id": "P03kfNlOtT76"
      },
      "source": [
        "from sklearn.naive_bayes import BernoulliNB\n",
        "from sklearn.svm import SVC\n",
        "from sklearn.tree import DecisionTreeClassifier\n",
        "from sklearn.neighbors import KNeighborsClassifier\n",
        "from sklearn.ensemble import RandomForestClassifier\n",
        "from sklearn.model_selection import cross_val_score"
      ],
      "execution_count": 58,
      "outputs": []
    },
    {
      "cell_type": "code",
      "metadata": {
        "colab": {
          "base_uri": "https://localhost:8080/"
        },
        "id": "IhrUfvPCu0S8",
        "outputId": "ae420823-d98d-4b12-a4e7-1a1d13d4e9dc"
      },
      "source": [
        "model = [LogisticRegression(),\n",
        "         KNeighborsClassifier(),\n",
        "         BernoulliNB(),\n",
        "         SVC(),\n",
        "         DecisionTreeClassifier(),\n",
        "         RandomForestClassifier()]\n",
        "\n",
        "for i in model:\n",
        "  i.fit(x_train,y_train)\n",
        "  pred = i.predict(x_test)\n",
        "  print('*********************************************************************************************************')\n",
        "  print('Accuracy Score of : ',i)\n",
        "  print(accuracy_score(y_test, pred))\n",
        "  print(confusion_matrix(y_test, pred))\n",
        "  print(classification_report(y_test, pred))\n",
        "  score = cross_val_score(i,x,y,cv=5)\n",
        "  print(score)\n",
        "  print(score.mean())\n",
        "  print('Difference between accuracy and cross val score is',accuracy_score(y_test,pred)-score.mean())\n",
        "  print('*********************************************************************************************************')"
      ],
      "execution_count": 61,
      "outputs": [
        {
          "output_type": "stream",
          "name": "stdout",
          "text": [
            "*********************************************************************************************************\n",
            "Accuracy Score of :  LogisticRegression(C=1.0, class_weight=None, dual=False, fit_intercept=True,\n",
            "                   intercept_scaling=1, l1_ratio=None, max_iter=100,\n",
            "                   multi_class='auto', n_jobs=None, penalty='l2',\n",
            "                   random_state=None, solver='lbfgs', tol=0.0001, verbose=0,\n",
            "                   warm_start=False)\n",
            "0.9160997732426304\n",
            "[[372   5]\n",
            " [ 32  32]]\n",
            "              precision    recall  f1-score   support\n",
            "\n",
            "           0       0.92      0.99      0.95       377\n",
            "           1       0.86      0.50      0.63        64\n",
            "\n",
            "    accuracy                           0.92       441\n",
            "   macro avg       0.89      0.74      0.79       441\n",
            "weighted avg       0.91      0.92      0.91       441\n",
            "\n",
            "[0.8877551  0.87414966 0.88095238 0.87755102 0.86054422]\n",
            "0.8761904761904761\n",
            "Difference between accuracy and cross val score is 0.03990929705215429\n",
            "*********************************************************************************************************\n",
            "*********************************************************************************************************\n",
            "Accuracy Score of :  KNeighborsClassifier(algorithm='auto', leaf_size=30, metric='minkowski',\n",
            "                     metric_params=None, n_jobs=None, n_neighbors=5, p=2,\n",
            "                     weights='uniform')\n",
            "0.8684807256235828\n",
            "[[374   3]\n",
            " [ 55   9]]\n",
            "              precision    recall  f1-score   support\n",
            "\n",
            "           0       0.87      0.99      0.93       377\n",
            "           1       0.75      0.14      0.24        64\n",
            "\n",
            "    accuracy                           0.87       441\n",
            "   macro avg       0.81      0.57      0.58       441\n",
            "weighted avg       0.85      0.87      0.83       441\n",
            "\n",
            "[0.84693878 0.86394558 0.84693878 0.8537415  0.84013605]\n",
            "0.8503401360544218\n",
            "Difference between accuracy and cross val score is 0.01814058956916098\n",
            "*********************************************************************************************************\n",
            "*********************************************************************************************************\n",
            "Accuracy Score of :  BernoulliNB(alpha=1.0, binarize=0.0, class_prior=None, fit_prior=True)\n",
            "0.8526077097505669\n",
            "[[341  36]\n",
            " [ 29  35]]\n",
            "              precision    recall  f1-score   support\n",
            "\n",
            "           0       0.92      0.90      0.91       377\n",
            "           1       0.49      0.55      0.52        64\n",
            "\n",
            "    accuracy                           0.85       441\n",
            "   macro avg       0.71      0.73      0.72       441\n",
            "weighted avg       0.86      0.85      0.86       441\n",
            "\n",
            "[0.83333333 0.82653061 0.81632653 0.81292517 0.79251701]\n",
            "0.8163265306122449\n",
            "Difference between accuracy and cross val score is 0.03628117913832196\n",
            "*********************************************************************************************************\n",
            "*********************************************************************************************************\n",
            "Accuracy Score of :  SVC(C=1.0, break_ties=False, cache_size=200, class_weight=None, coef0=0.0,\n",
            "    decision_function_shape='ovr', degree=3, gamma='scale', kernel='rbf',\n",
            "    max_iter=-1, probability=False, random_state=None, shrinking=True,\n",
            "    tol=0.001, verbose=False)\n",
            "0.8934240362811792\n",
            "[[376   1]\n",
            " [ 46  18]]\n",
            "              precision    recall  f1-score   support\n",
            "\n",
            "           0       0.89      1.00      0.94       377\n",
            "           1       0.95      0.28      0.43        64\n",
            "\n",
            "    accuracy                           0.89       441\n",
            "   macro avg       0.92      0.64      0.69       441\n",
            "weighted avg       0.90      0.89      0.87       441\n",
            "\n",
            "[0.8707483  0.8707483  0.8707483  0.86054422 0.8537415 ]\n",
            "0.8653061224489796\n",
            "Difference between accuracy and cross val score is 0.028117913832199526\n",
            "*********************************************************************************************************\n",
            "*********************************************************************************************************\n",
            "Accuracy Score of :  DecisionTreeClassifier(ccp_alpha=0.0, class_weight=None, criterion='gini',\n",
            "                       max_depth=None, max_features=None, max_leaf_nodes=None,\n",
            "                       min_impurity_decrease=0.0, min_impurity_split=None,\n",
            "                       min_samples_leaf=1, min_samples_split=2,\n",
            "                       min_weight_fraction_leaf=0.0, presort='deprecated',\n",
            "                       random_state=None, splitter='best')\n",
            "0.8231292517006803\n",
            "[[338  39]\n",
            " [ 39  25]]\n",
            "              precision    recall  f1-score   support\n",
            "\n",
            "           0       0.90      0.90      0.90       377\n",
            "           1       0.39      0.39      0.39        64\n",
            "\n",
            "    accuracy                           0.82       441\n",
            "   macro avg       0.64      0.64      0.64       441\n",
            "weighted avg       0.82      0.82      0.82       441\n",
            "\n",
            "[0.76190476 0.78911565 0.76870748 0.7755102  0.80612245]\n",
            "0.7802721088435375\n",
            "Difference between accuracy and cross val score is 0.042857142857142816\n",
            "*********************************************************************************************************\n",
            "*********************************************************************************************************\n",
            "Accuracy Score of :  RandomForestClassifier(bootstrap=True, ccp_alpha=0.0, class_weight=None,\n",
            "                       criterion='gini', max_depth=None, max_features='auto',\n",
            "                       max_leaf_nodes=None, max_samples=None,\n",
            "                       min_impurity_decrease=0.0, min_impurity_split=None,\n",
            "                       min_samples_leaf=1, min_samples_split=2,\n",
            "                       min_weight_fraction_leaf=0.0, n_estimators=100,\n",
            "                       n_jobs=None, oob_score=False, random_state=None,\n",
            "                       verbose=0, warm_start=False)\n",
            "0.8775510204081632\n",
            "[[376   1]\n",
            " [ 53  11]]\n",
            "              precision    recall  f1-score   support\n",
            "\n",
            "           0       0.88      1.00      0.93       377\n",
            "           1       0.92      0.17      0.29        64\n",
            "\n",
            "    accuracy                           0.88       441\n",
            "   macro avg       0.90      0.58      0.61       441\n",
            "weighted avg       0.88      0.88      0.84       441\n",
            "\n",
            "[0.8537415  0.85714286 0.8707483  0.86734694 0.84013605]\n",
            "0.8578231292517007\n",
            "Difference between accuracy and cross val score is 0.019727891156462563\n",
            "*********************************************************************************************************\n"
          ]
        }
      ]
    },
    {
      "cell_type": "markdown",
      "metadata": {
        "id": "0lv6n3_V4OrT"
      },
      "source": [
        " - LogisticRegression have high accuracy with cross val score i.e 91.60%"
      ]
    },
    {
      "cell_type": "markdown",
      "metadata": {
        "id": "M66prsDHycDM"
      },
      "source": [
        "# **Hyper Parameter Tuning**"
      ]
    },
    {
      "cell_type": "code",
      "metadata": {
        "id": "T_UgtmmIyBeM"
      },
      "source": [
        "from sklearn.model_selection import GridSearchCV\n",
        "parameters = {'penalty':['12','elasticnet','none'],'solver':['newton_cg','lbfgs','liblinear','sag','saga']}"
      ],
      "execution_count": 62,
      "outputs": []
    },
    {
      "cell_type": "code",
      "metadata": {
        "colab": {
          "base_uri": "https://localhost:8080/"
        },
        "id": "ko2EfdhAzD_a",
        "outputId": "bc0bfe1e-06c9-47cd-9e5e-fce8f87b5b92"
      },
      "source": [
        "clf = GridSearchCV(LogisticRegression(),parameters,cv=8)\n",
        "clf.fit(x_train,y_train)\n",
        "clf.best_params_"
      ],
      "execution_count": 64,
      "outputs": [
        {
          "output_type": "execute_result",
          "data": {
            "text/plain": [
              "{'penalty': 'none', 'solver': 'lbfgs'}"
            ]
          },
          "metadata": {},
          "execution_count": 64
        }
      ]
    },
    {
      "cell_type": "code",
      "metadata": {
        "id": "D20kuRXGzYgl"
      },
      "source": [
        "clf_pred = clf.best_estimator_.predict(x_test)"
      ],
      "execution_count": 65,
      "outputs": []
    },
    {
      "cell_type": "code",
      "metadata": {
        "colab": {
          "base_uri": "https://localhost:8080/"
        },
        "id": "ZfdyCv-hzo95",
        "outputId": "5582bc3e-a8e6-4979-babf-7173401a4011"
      },
      "source": [
        "accuracy_score(y_test,clf_pred)"
      ],
      "execution_count": 66,
      "outputs": [
        {
          "output_type": "execute_result",
          "data": {
            "text/plain": [
              "0.9160997732426304"
            ]
          },
          "metadata": {},
          "execution_count": 66
        }
      ]
    },
    {
      "cell_type": "markdown",
      "metadata": {
        "id": "Zwvlh4CizyBA"
      },
      "source": [
        " - Our model learnt 91.60%"
      ]
    },
    {
      "cell_type": "code",
      "metadata": {
        "colab": {
          "base_uri": "https://localhost:8080/"
        },
        "id": "Qg-COQm9zvt-",
        "outputId": "44c42726-f1a1-4361-d25e-151854af0343"
      },
      "source": [
        "print(accuracy_score(y_test,clf_pred))\n",
        "print(confusion_matrix(y_test,clf_pred))\n",
        "print(classification_report(y_test,clf_pred))"
      ],
      "execution_count": 67,
      "outputs": [
        {
          "output_type": "stream",
          "name": "stdout",
          "text": [
            "0.9160997732426304\n",
            "[[371   6]\n",
            " [ 31  33]]\n",
            "              precision    recall  f1-score   support\n",
            "\n",
            "           0       0.92      0.98      0.95       377\n",
            "           1       0.85      0.52      0.64        64\n",
            "\n",
            "    accuracy                           0.92       441\n",
            "   macro avg       0.88      0.75      0.80       441\n",
            "weighted avg       0.91      0.92      0.91       441\n",
            "\n"
          ]
        }
      ]
    },
    {
      "cell_type": "code",
      "metadata": {
        "colab": {
          "base_uri": "https://localhost:8080/",
          "height": 567
        },
        "id": "RtQ6t1h10DTC",
        "outputId": "b424aa9b-93f3-40f4-c334-99f025c825e4"
      },
      "source": [
        "from sklearn.metrics import roc_curve,auc\n",
        "import matplotlib.pyplot as plt\n",
        "# calculating fpr tpr\n",
        "fpr,tpr,threshold = roc_curve(y_test,clf_pred)\n",
        "# model accuracy\n",
        "rf_auc = auc(fpr,tpr)\n",
        "# plotting figure size of 10,9\n",
        "plt.figure(figsize=(10,9))\n",
        "plt.plot(fpr,tpr,label='AUC:0.02f' % rf_auc)\n",
        "plt.plot([1,0],[1,0],linestyle='--')\n",
        "# adding accuracy score at bottom right\n",
        "plt.legend(loc=0)\n",
        "plt.xlabel('False Positive Rate')\n",
        "plt.ylabel('True Positive Rate')\n",
        "plt.title('Decision Tree Classifier')\n",
        "# adding the grid\n",
        "plt.grid()"
      ],
      "execution_count": 68,
      "outputs": [
        {
          "output_type": "display_data",
          "data": {
            "image/png": "[encoded data removed]",
            "text/plain": [
              "<Figure size 720x648 with 1 Axes>"
            ]
          },
          "metadata": {
            "needs_background": "light"
          }
        }
      ]
    },
    {
      "cell_type": "markdown",
      "metadata": {
        "id": "kfUg7qnF23I8"
      },
      "source": [
        "# **Boosting**"
      ]
    },
    {
      "cell_type": "code",
      "metadata": {
        "colab": {
          "base_uri": "https://localhost:8080/"
        },
        "id": "Xo2ViNwX21o5",
        "outputId": "0d43db8b-332a-42b3-fbee-5bb3594ab14f"
      },
      "source": [
        "from sklearn.ensemble import GradientBoostingClassifier\n",
        "gbc = GradientBoostingClassifier()\n",
        "gbc.fit(x_train,y_train)\n",
        "gbc_pred = gbc.predict(x_test)\n",
        "print(accuracy_score(y_test,gbc_pred))\n",
        "print(confusion_matrix(y_test,gbc_pred))\n",
        "print(classification_report(y_test,gbc_pred))"
      ],
      "execution_count": 69,
      "outputs": [
        {
          "output_type": "stream",
          "name": "stdout",
          "text": [
            "0.8820861678004536\n",
            "[[374   3]\n",
            " [ 49  15]]\n",
            "              precision    recall  f1-score   support\n",
            "\n",
            "           0       0.88      0.99      0.93       377\n",
            "           1       0.83      0.23      0.37        64\n",
            "\n",
            "    accuracy                           0.88       441\n",
            "   macro avg       0.86      0.61      0.65       441\n",
            "weighted avg       0.88      0.88      0.85       441\n",
            "\n"
          ]
        }
      ]
    },
    {
      "cell_type": "code",
      "metadata": {
        "colab": {
          "base_uri": "https://localhost:8080/"
        },
        "id": "7OHF8cjd3kn4",
        "outputId": "2e34c698-7a79-4c4f-cec2-d24e3d55d75f"
      },
      "source": [
        "score = cross_val_score(gbc,x,y,cv=8)\n",
        "print(score)\n",
        "print(score.mean())"
      ],
      "execution_count": 72,
      "outputs": [
        {
          "output_type": "stream",
          "name": "stdout",
          "text": [
            "[0.84782609 0.89130435 0.875      0.8423913  0.86956522 0.88043478\n",
            " 0.86338798 0.85245902]\n",
            "0.8652960917082442\n"
          ]
        }
      ]
    },
    {
      "cell_type": "markdown",
      "metadata": {
        "id": "p2gkB7pF4hyU"
      },
      "source": [
        " - Gradient Boosting Classifier is not working as effective as Logistic Regression."
      ]
    },
    {
      "cell_type": "markdown",
      "metadata": {
        "id": "NSM2wSEh4yJk"
      },
      "source": [
        "# **Saving the model**"
      ]
    },
    {
      "cell_type": "code",
      "metadata": {
        "colab": {
          "base_uri": "https://localhost:8080/"
        },
        "id": "aUeo5nWe3-jz",
        "outputId": "048218e6-56c1-44ec-a320-486aa10cc44d"
      },
      "source": [
        "import joblib \n",
        "joblib.dump(clf.best_estimator_, 'HR_Analysis.obj')\n",
        "RF_from_joblib = joblib.load('HR_Analysis.obj')\n",
        "predicted = RF_from_joblib.predict(x_test)\n",
        "predicted"
      ],
      "execution_count": 73,
      "outputs": [
        {
          "output_type": "execute_result",
          "data": {
            "text/plain": [
              "array([0, 1, 1, 1, 0, 0, 0, 0, 0, 0, 0, 0, 0, 0, 1, 0, 0, 0, 0, 0, 0, 0,\n",
              "       0, 0, 0, 0, 0, 0, 0, 0, 0, 0, 0, 0, 0, 0, 0, 0, 0, 0, 0, 0, 0, 0,\n",
              "       0, 0, 0, 0, 0, 0, 0, 0, 0, 0, 1, 0, 0, 0, 0, 0, 0, 0, 0, 1, 0, 0,\n",
              "       1, 0, 0, 0, 0, 0, 0, 0, 0, 0, 0, 0, 0, 0, 0, 0, 0, 0, 0, 0, 0, 1,\n",
              "       0, 0, 0, 0, 0, 0, 0, 0, 0, 0, 0, 0, 0, 0, 0, 0, 0, 0, 0, 0, 0, 0,\n",
              "       0, 1, 0, 0, 0, 0, 0, 0, 0, 0, 0, 0, 0, 0, 0, 0, 0, 0, 0, 0, 0, 0,\n",
              "       0, 0, 0, 0, 0, 0, 0, 0, 0, 0, 0, 0, 1, 0, 0, 0, 0, 0, 0, 0, 0, 0,\n",
              "       0, 1, 0, 1, 0, 0, 0, 0, 1, 0, 1, 0, 0, 0, 0, 0, 0, 0, 0, 0, 0, 0,\n",
              "       0, 0, 0, 0, 0, 0, 0, 0, 0, 0, 0, 0, 1, 1, 0, 0, 0, 0, 0, 0, 0, 0,\n",
              "       0, 1, 0, 0, 1, 0, 0, 0, 0, 0, 0, 0, 1, 0, 0, 0, 0, 0, 0, 0, 0, 0,\n",
              "       0, 0, 0, 0, 0, 0, 0, 0, 0, 0, 0, 0, 0, 0, 0, 0, 0, 0, 0, 0, 0, 0,\n",
              "       0, 0, 0, 0, 0, 0, 0, 0, 1, 0, 0, 0, 1, 0, 0, 0, 0, 0, 0, 0, 0, 0,\n",
              "       0, 0, 0, 0, 0, 0, 0, 0, 0, 0, 0, 0, 0, 0, 0, 0, 0, 0, 0, 0, 0, 0,\n",
              "       1, 0, 0, 0, 0, 0, 1, 1, 0, 0, 0, 0, 0, 0, 0, 1, 0, 0, 0, 0, 0, 0,\n",
              "       0, 1, 0, 0, 0, 0, 1, 0, 0, 1, 0, 0, 0, 0, 0, 0, 0, 0, 0, 1, 0, 0,\n",
              "       0, 0, 1, 0, 0, 1, 0, 0, 1, 1, 0, 0, 0, 0, 0, 0, 0, 0, 0, 0, 0, 0,\n",
              "       0, 0, 1, 0, 0, 0, 0, 0, 0, 0, 0, 0, 0, 0, 0, 0, 0, 0, 0, 0, 1, 0,\n",
              "       0, 0, 1, 0, 0, 1, 0, 0, 0, 0, 0, 0, 0, 0, 0, 0, 0, 0, 0, 0, 0, 0,\n",
              "       1, 0, 0, 0, 0, 0, 0, 0, 0, 0, 0, 0, 0, 0, 0, 1, 0, 0, 0, 0, 0, 0,\n",
              "       0, 0, 0, 0, 0, 0, 0, 0, 0, 0, 0, 0, 0, 0, 0, 0, 0, 0, 0, 0, 0, 0,\n",
              "       0])"
            ]
          },
          "metadata": {},
          "execution_count": 73
        }
      ]
    },
    {
      "cell_type": "code",
      "metadata": {
        "colab": {
          "base_uri": "https://localhost:8080/",
          "height": 131
        },
        "id": "encpsKrY58uD",
        "outputId": "de186775-5e7a-4f5f-df6e-3b4a5198709e"
      },
      "source": [
        "pd.set_option('display.max_rows',None,'display.max_columns',None)\n",
        "pd.DataFrame([RF_from_joblib.predict(x_test)[:],y_test[:]],index=['Predicted','Original'])"
      ],
      "execution_count": 74,
      "outputs": [
        {
          "output_type": "execute_result",
          "data": {
            "text/html": [
              "<div>\n",
              "<style scoped>\n",
              "    .dataframe tbody tr th:only-of-type {\n",
              "        vertical-align: middle;\n",
              "    }\n",
              "\n",
              "    .dataframe tbody tr th {\n",
              "        vertical-align: top;\n",
              "    }\n",
              "\n",
              "    .dataframe thead th {\n",
              "        text-align: right;\n",
              "    }\n",
              "</style>\n",
              "<table border=\"1\" class=\"dataframe\">\n",
              "  <thead>\n",
              "    <tr style=\"text-align: right;\">\n",
              "      <th></th>\n",
              "      <th>0</th>\n",
              "      <th>1</th>\n",
              "      <th>2</th>\n",
              "      <th>3</th>\n",
              "      <th>4</th>\n",
              "      <th>5</th>\n",
              "      <th>6</th>\n",
              "      <th>7</th>\n",
              "      <th>8</th>\n",
              "      <th>9</th>\n",
              "      <th>10</th>\n",
              "      <th>11</th>\n",
              "      <th>12</th>\n",
              "      <th>13</th>\n",
              "      <th>14</th>\n",
              "      <th>15</th>\n",
              "      <th>16</th>\n",
              "      <th>17</th>\n",
              "      <th>18</th>\n",
              "      <th>19</th>\n",
              "      <th>20</th>\n",
              "      <th>21</th>\n",
              "      <th>22</th>\n",
              "      <th>23</th>\n",
              "      <th>24</th>\n",
              "      <th>25</th>\n",
              "      <th>26</th>\n",
              "      <th>27</th>\n",
              "      <th>28</th>\n",
              "      <th>29</th>\n",
              "      <th>30</th>\n",
              "      <th>31</th>\n",
              "      <th>32</th>\n",
              "      <th>33</th>\n",
              "      <th>34</th>\n",
              "      <th>35</th>\n",
              "      <th>36</th>\n",
              "      <th>37</th>\n",
              "      <th>38</th>\n",
              "      <th>39</th>\n",
              "      <th>40</th>\n",
              "      <th>41</th>\n",
              "      <th>42</th>\n",
              "      <th>43</th>\n",
              "      <th>44</th>\n",
              "      <th>45</th>\n",
              "      <th>46</th>\n",
              "      <th>47</th>\n",
              "      <th>48</th>\n",
              "      <th>49</th>\n",
              "      <th>50</th>\n",
              "      <th>51</th>\n",
              "      <th>52</th>\n",
              "      <th>53</th>\n",
              "      <th>54</th>\n",
              "      <th>55</th>\n",
              "      <th>56</th>\n",
              "      <th>57</th>\n",
              "      <th>58</th>\n",
              "      <th>59</th>\n",
              "      <th>60</th>\n",
              "      <th>61</th>\n",
              "      <th>62</th>\n",
              "      <th>63</th>\n",
              "      <th>64</th>\n",
              "      <th>65</th>\n",
              "      <th>66</th>\n",
              "      <th>67</th>\n",
              "      <th>68</th>\n",
              "      <th>69</th>\n",
              "      <th>70</th>\n",
              "      <th>71</th>\n",
              "      <th>72</th>\n",
              "      <th>73</th>\n",
              "      <th>74</th>\n",
              "      <th>75</th>\n",
              "      <th>76</th>\n",
              "      <th>77</th>\n",
              "      <th>78</th>\n",
              "      <th>79</th>\n",
              "      <th>80</th>\n",
              "      <th>81</th>\n",
              "      <th>82</th>\n",
              "      <th>83</th>\n",
              "      <th>84</th>\n",
              "      <th>85</th>\n",
              "      <th>86</th>\n",
              "      <th>87</th>\n",
              "      <th>88</th>\n",
              "      <th>89</th>\n",
              "      <th>90</th>\n",
              "      <th>91</th>\n",
              "      <th>92</th>\n",
              "      <th>93</th>\n",
              "      <th>94</th>\n",
              "      <th>95</th>\n",
              "      <th>96</th>\n",
              "      <th>97</th>\n",
              "      <th>98</th>\n",
              "      <th>99</th>\n",
              "      <th>100</th>\n",
              "      <th>101</th>\n",
              "      <th>102</th>\n",
              "      <th>103</th>\n",
              "      <th>104</th>\n",
              "      <th>105</th>\n",
              "      <th>106</th>\n",
              "      <th>107</th>\n",
              "      <th>108</th>\n",
              "      <th>109</th>\n",
              "      <th>110</th>\n",
              "      <th>111</th>\n",
              "      <th>112</th>\n",
              "      <th>113</th>\n",
              "      <th>114</th>\n",
              "      <th>115</th>\n",
              "      <th>116</th>\n",
              "      <th>117</th>\n",
              "      <th>118</th>\n",
              "      <th>119</th>\n",
              "      <th>120</th>\n",
              "      <th>121</th>\n",
              "      <th>122</th>\n",
              "      <th>123</th>\n",
              "      <th>124</th>\n",
              "      <th>125</th>\n",
              "      <th>126</th>\n",
              "      <th>127</th>\n",
              "      <th>128</th>\n",
              "      <th>129</th>\n",
              "      <th>130</th>\n",
              "      <th>131</th>\n",
              "      <th>132</th>\n",
              "      <th>133</th>\n",
              "      <th>134</th>\n",
              "      <th>135</th>\n",
              "      <th>136</th>\n",
              "      <th>137</th>\n",
              "      <th>138</th>\n",
              "      <th>139</th>\n",
              "      <th>140</th>\n",
              "      <th>141</th>\n",
              "      <th>142</th>\n",
              "      <th>143</th>\n",
              "      <th>144</th>\n",
              "      <th>145</th>\n",
              "      <th>146</th>\n",
              "      <th>147</th>\n",
              "      <th>148</th>\n",
              "      <th>149</th>\n",
              "      <th>150</th>\n",
              "      <th>151</th>\n",
              "      <th>152</th>\n",
              "      <th>153</th>\n",
              "      <th>154</th>\n",
              "      <th>155</th>\n",
              "      <th>156</th>\n",
              "      <th>157</th>\n",
              "      <th>158</th>\n",
              "      <th>159</th>\n",
              "      <th>160</th>\n",
              "      <th>161</th>\n",
              "      <th>162</th>\n",
              "      <th>163</th>\n",
              "      <th>164</th>\n",
              "      <th>165</th>\n",
              "      <th>166</th>\n",
              "      <th>167</th>\n",
              "      <th>168</th>\n",
              "      <th>169</th>\n",
              "      <th>170</th>\n",
              "      <th>171</th>\n",
              "      <th>172</th>\n",
              "      <th>173</th>\n",
              "      <th>174</th>\n",
              "      <th>175</th>\n",
              "      <th>176</th>\n",
              "      <th>177</th>\n",
              "      <th>178</th>\n",
              "      <th>179</th>\n",
              "      <th>180</th>\n",
              "      <th>181</th>\n",
              "      <th>182</th>\n",
              "      <th>183</th>\n",
              "      <th>184</th>\n",
              "      <th>185</th>\n",
              "      <th>186</th>\n",
              "      <th>187</th>\n",
              "      <th>188</th>\n",
              "      <th>189</th>\n",
              "      <th>190</th>\n",
              "      <th>191</th>\n",
              "      <th>192</th>\n",
              "      <th>193</th>\n",
              "      <th>194</th>\n",
              "      <th>195</th>\n",
              "      <th>196</th>\n",
              "      <th>197</th>\n",
              "      <th>198</th>\n",
              "      <th>199</th>\n",
              "      <th>200</th>\n",
              "      <th>201</th>\n",
              "      <th>202</th>\n",
              "      <th>203</th>\n",
              "      <th>204</th>\n",
              "      <th>205</th>\n",
              "      <th>206</th>\n",
              "      <th>207</th>\n",
              "      <th>208</th>\n",
              "      <th>209</th>\n",
              "      <th>210</th>\n",
              "      <th>211</th>\n",
              "      <th>212</th>\n",
              "      <th>213</th>\n",
              "      <th>214</th>\n",
              "      <th>215</th>\n",
              "      <th>216</th>\n",
              "      <th>217</th>\n",
              "      <th>218</th>\n",
              "      <th>219</th>\n",
              "      <th>220</th>\n",
              "      <th>221</th>\n",
              "      <th>222</th>\n",
              "      <th>223</th>\n",
              "      <th>224</th>\n",
              "      <th>225</th>\n",
              "      <th>226</th>\n",
              "      <th>227</th>\n",
              "      <th>228</th>\n",
              "      <th>229</th>\n",
              "      <th>230</th>\n",
              "      <th>231</th>\n",
              "      <th>232</th>\n",
              "      <th>233</th>\n",
              "      <th>234</th>\n",
              "      <th>235</th>\n",
              "      <th>236</th>\n",
              "      <th>237</th>\n",
              "      <th>238</th>\n",
              "      <th>239</th>\n",
              "      <th>240</th>\n",
              "      <th>241</th>\n",
              "      <th>242</th>\n",
              "      <th>243</th>\n",
              "      <th>244</th>\n",
              "      <th>245</th>\n",
              "      <th>246</th>\n",
              "      <th>247</th>\n",
              "      <th>248</th>\n",
              "      <th>249</th>\n",
              "      <th>250</th>\n",
              "      <th>251</th>\n",
              "      <th>252</th>\n",
              "      <th>253</th>\n",
              "      <th>254</th>\n",
              "      <th>255</th>\n",
              "      <th>256</th>\n",
              "      <th>257</th>\n",
              "      <th>258</th>\n",
              "      <th>259</th>\n",
              "      <th>260</th>\n",
              "      <th>261</th>\n",
              "      <th>262</th>\n",
              "      <th>263</th>\n",
              "      <th>264</th>\n",
              "      <th>265</th>\n",
              "      <th>266</th>\n",
              "      <th>267</th>\n",
              "      <th>268</th>\n",
              "      <th>269</th>\n",
              "      <th>270</th>\n",
              "      <th>271</th>\n",
              "      <th>272</th>\n",
              "      <th>273</th>\n",
              "      <th>274</th>\n",
              "      <th>275</th>\n",
              "      <th>276</th>\n",
              "      <th>277</th>\n",
              "      <th>278</th>\n",
              "      <th>279</th>\n",
              "      <th>280</th>\n",
              "      <th>281</th>\n",
              "      <th>282</th>\n",
              "      <th>283</th>\n",
              "      <th>284</th>\n",
              "      <th>285</th>\n",
              "      <th>286</th>\n",
              "      <th>287</th>\n",
              "      <th>288</th>\n",
              "      <th>289</th>\n",
              "      <th>290</th>\n",
              "      <th>291</th>\n",
              "      <th>292</th>\n",
              "      <th>293</th>\n",
              "      <th>294</th>\n",
              "      <th>295</th>\n",
              "      <th>296</th>\n",
              "      <th>297</th>\n",
              "      <th>298</th>\n",
              "      <th>299</th>\n",
              "      <th>300</th>\n",
              "      <th>301</th>\n",
              "      <th>302</th>\n",
              "      <th>303</th>\n",
              "      <th>304</th>\n",
              "      <th>305</th>\n",
              "      <th>306</th>\n",
              "      <th>307</th>\n",
              "      <th>308</th>\n",
              "      <th>309</th>\n",
              "      <th>310</th>\n",
              "      <th>311</th>\n",
              "      <th>312</th>\n",
              "      <th>313</th>\n",
              "      <th>314</th>\n",
              "      <th>315</th>\n",
              "      <th>316</th>\n",
              "      <th>317</th>\n",
              "      <th>318</th>\n",
              "      <th>319</th>\n",
              "      <th>320</th>\n",
              "      <th>321</th>\n",
              "      <th>322</th>\n",
              "      <th>323</th>\n",
              "      <th>324</th>\n",
              "      <th>325</th>\n",
              "      <th>326</th>\n",
              "      <th>327</th>\n",
              "      <th>328</th>\n",
              "      <th>329</th>\n",
              "      <th>330</th>\n",
              "      <th>331</th>\n",
              "      <th>332</th>\n",
              "      <th>333</th>\n",
              "      <th>334</th>\n",
              "      <th>335</th>\n",
              "      <th>336</th>\n",
              "      <th>337</th>\n",
              "      <th>338</th>\n",
              "      <th>339</th>\n",
              "      <th>340</th>\n",
              "      <th>341</th>\n",
              "      <th>342</th>\n",
              "      <th>343</th>\n",
              "      <th>344</th>\n",
              "      <th>345</th>\n",
              "      <th>346</th>\n",
              "      <th>347</th>\n",
              "      <th>348</th>\n",
              "      <th>349</th>\n",
              "      <th>350</th>\n",
              "      <th>351</th>\n",
              "      <th>352</th>\n",
              "      <th>353</th>\n",
              "      <th>354</th>\n",
              "      <th>355</th>\n",
              "      <th>356</th>\n",
              "      <th>357</th>\n",
              "      <th>358</th>\n",
              "      <th>359</th>\n",
              "      <th>360</th>\n",
              "      <th>361</th>\n",
              "      <th>362</th>\n",
              "      <th>363</th>\n",
              "      <th>364</th>\n",
              "      <th>365</th>\n",
              "      <th>366</th>\n",
              "      <th>367</th>\n",
              "      <th>368</th>\n",
              "      <th>369</th>\n",
              "      <th>370</th>\n",
              "      <th>371</th>\n",
              "      <th>372</th>\n",
              "      <th>373</th>\n",
              "      <th>374</th>\n",
              "      <th>375</th>\n",
              "      <th>376</th>\n",
              "      <th>377</th>\n",
              "      <th>378</th>\n",
              "      <th>379</th>\n",
              "      <th>380</th>\n",
              "      <th>381</th>\n",
              "      <th>382</th>\n",
              "      <th>383</th>\n",
              "      <th>384</th>\n",
              "      <th>385</th>\n",
              "      <th>386</th>\n",
              "      <th>387</th>\n",
              "      <th>388</th>\n",
              "      <th>389</th>\n",
              "      <th>390</th>\n",
              "      <th>391</th>\n",
              "      <th>392</th>\n",
              "      <th>393</th>\n",
              "      <th>394</th>\n",
              "      <th>395</th>\n",
              "      <th>396</th>\n",
              "      <th>397</th>\n",
              "      <th>398</th>\n",
              "      <th>399</th>\n",
              "      <th>400</th>\n",
              "      <th>401</th>\n",
              "      <th>402</th>\n",
              "      <th>403</th>\n",
              "      <th>404</th>\n",
              "      <th>405</th>\n",
              "      <th>406</th>\n",
              "      <th>407</th>\n",
              "      <th>408</th>\n",
              "      <th>409</th>\n",
              "      <th>410</th>\n",
              "      <th>411</th>\n",
              "      <th>412</th>\n",
              "      <th>413</th>\n",
              "      <th>414</th>\n",
              "      <th>415</th>\n",
              "      <th>416</th>\n",
              "      <th>417</th>\n",
              "      <th>418</th>\n",
              "      <th>419</th>\n",
              "      <th>420</th>\n",
              "      <th>421</th>\n",
              "      <th>422</th>\n",
              "      <th>423</th>\n",
              "      <th>424</th>\n",
              "      <th>425</th>\n",
              "      <th>426</th>\n",
              "      <th>427</th>\n",
              "      <th>428</th>\n",
              "      <th>429</th>\n",
              "      <th>430</th>\n",
              "      <th>431</th>\n",
              "      <th>432</th>\n",
              "      <th>433</th>\n",
              "      <th>434</th>\n",
              "      <th>435</th>\n",
              "      <th>436</th>\n",
              "      <th>437</th>\n",
              "      <th>438</th>\n",
              "      <th>439</th>\n",
              "      <th>440</th>\n",
              "    </tr>\n",
              "  </thead>\n",
              "  <tbody>\n",
              "    <tr>\n",
              "      <th>Predicted</th>\n",
              "      <td>0</td>\n",
              "      <td>1</td>\n",
              "      <td>1</td>\n",
              "      <td>1</td>\n",
              "      <td>0</td>\n",
              "      <td>0</td>\n",
              "      <td>0</td>\n",
              "      <td>0</td>\n",
              "      <td>0</td>\n",
              "      <td>0</td>\n",
              "      <td>0</td>\n",
              "      <td>0</td>\n",
              "      <td>0</td>\n",
              "      <td>0</td>\n",
              "      <td>1</td>\n",
              "      <td>0</td>\n",
              "      <td>0</td>\n",
              "      <td>0</td>\n",
              "      <td>0</td>\n",
              "      <td>0</td>\n",
              "      <td>0</td>\n",
              "      <td>0</td>\n",
              "      <td>0</td>\n",
              "      <td>0</td>\n",
              "      <td>0</td>\n",
              "      <td>0</td>\n",
              "      <td>0</td>\n",
              "      <td>0</td>\n",
              "      <td>0</td>\n",
              "      <td>0</td>\n",
              "      <td>0</td>\n",
              "      <td>0</td>\n",
              "      <td>0</td>\n",
              "      <td>0</td>\n",
              "      <td>0</td>\n",
              "      <td>0</td>\n",
              "      <td>0</td>\n",
              "      <td>0</td>\n",
              "      <td>0</td>\n",
              "      <td>0</td>\n",
              "      <td>0</td>\n",
              "      <td>0</td>\n",
              "      <td>0</td>\n",
              "      <td>0</td>\n",
              "      <td>0</td>\n",
              "      <td>0</td>\n",
              "      <td>0</td>\n",
              "      <td>0</td>\n",
              "      <td>0</td>\n",
              "      <td>0</td>\n",
              "      <td>0</td>\n",
              "      <td>0</td>\n",
              "      <td>0</td>\n",
              "      <td>0</td>\n",
              "      <td>1</td>\n",
              "      <td>0</td>\n",
              "      <td>0</td>\n",
              "      <td>0</td>\n",
              "      <td>0</td>\n",
              "      <td>0</td>\n",
              "      <td>0</td>\n",
              "      <td>0</td>\n",
              "      <td>0</td>\n",
              "      <td>1</td>\n",
              "      <td>0</td>\n",
              "      <td>0</td>\n",
              "      <td>1</td>\n",
              "      <td>0</td>\n",
              "      <td>0</td>\n",
              "      <td>0</td>\n",
              "      <td>0</td>\n",
              "      <td>0</td>\n",
              "      <td>0</td>\n",
              "      <td>0</td>\n",
              "      <td>0</td>\n",
              "      <td>0</td>\n",
              "      <td>0</td>\n",
              "      <td>0</td>\n",
              "      <td>0</td>\n",
              "      <td>0</td>\n",
              "      <td>0</td>\n",
              "      <td>0</td>\n",
              "      <td>0</td>\n",
              "      <td>0</td>\n",
              "      <td>0</td>\n",
              "      <td>0</td>\n",
              "      <td>0</td>\n",
              "      <td>1</td>\n",
              "      <td>0</td>\n",
              "      <td>0</td>\n",
              "      <td>0</td>\n",
              "      <td>0</td>\n",
              "      <td>0</td>\n",
              "      <td>0</td>\n",
              "      <td>0</td>\n",
              "      <td>0</td>\n",
              "      <td>0</td>\n",
              "      <td>0</td>\n",
              "      <td>0</td>\n",
              "      <td>0</td>\n",
              "      <td>0</td>\n",
              "      <td>0</td>\n",
              "      <td>0</td>\n",
              "      <td>0</td>\n",
              "      <td>0</td>\n",
              "      <td>0</td>\n",
              "      <td>0</td>\n",
              "      <td>0</td>\n",
              "      <td>0</td>\n",
              "      <td>0</td>\n",
              "      <td>0</td>\n",
              "      <td>1</td>\n",
              "      <td>0</td>\n",
              "      <td>0</td>\n",
              "      <td>0</td>\n",
              "      <td>0</td>\n",
              "      <td>0</td>\n",
              "      <td>0</td>\n",
              "      <td>0</td>\n",
              "      <td>0</td>\n",
              "      <td>0</td>\n",
              "      <td>0</td>\n",
              "      <td>0</td>\n",
              "      <td>0</td>\n",
              "      <td>0</td>\n",
              "      <td>0</td>\n",
              "      <td>0</td>\n",
              "      <td>0</td>\n",
              "      <td>0</td>\n",
              "      <td>0</td>\n",
              "      <td>0</td>\n",
              "      <td>0</td>\n",
              "      <td>0</td>\n",
              "      <td>0</td>\n",
              "      <td>0</td>\n",
              "      <td>0</td>\n",
              "      <td>0</td>\n",
              "      <td>0</td>\n",
              "      <td>0</td>\n",
              "      <td>0</td>\n",
              "      <td>0</td>\n",
              "      <td>0</td>\n",
              "      <td>0</td>\n",
              "      <td>0</td>\n",
              "      <td>1</td>\n",
              "      <td>0</td>\n",
              "      <td>0</td>\n",
              "      <td>0</td>\n",
              "      <td>0</td>\n",
              "      <td>0</td>\n",
              "      <td>0</td>\n",
              "      <td>0</td>\n",
              "      <td>0</td>\n",
              "      <td>0</td>\n",
              "      <td>0</td>\n",
              "      <td>1</td>\n",
              "      <td>0</td>\n",
              "      <td>1</td>\n",
              "      <td>0</td>\n",
              "      <td>0</td>\n",
              "      <td>0</td>\n",
              "      <td>0</td>\n",
              "      <td>1</td>\n",
              "      <td>0</td>\n",
              "      <td>1</td>\n",
              "      <td>0</td>\n",
              "      <td>0</td>\n",
              "      <td>0</td>\n",
              "      <td>0</td>\n",
              "      <td>0</td>\n",
              "      <td>0</td>\n",
              "      <td>0</td>\n",
              "      <td>0</td>\n",
              "      <td>0</td>\n",
              "      <td>0</td>\n",
              "      <td>0</td>\n",
              "      <td>0</td>\n",
              "      <td>0</td>\n",
              "      <td>0</td>\n",
              "      <td>0</td>\n",
              "      <td>0</td>\n",
              "      <td>0</td>\n",
              "      <td>0</td>\n",
              "      <td>0</td>\n",
              "      <td>0</td>\n",
              "      <td>0</td>\n",
              "      <td>0</td>\n",
              "      <td>0</td>\n",
              "      <td>1</td>\n",
              "      <td>1</td>\n",
              "      <td>0</td>\n",
              "      <td>0</td>\n",
              "      <td>0</td>\n",
              "      <td>0</td>\n",
              "      <td>0</td>\n",
              "      <td>0</td>\n",
              "      <td>0</td>\n",
              "      <td>0</td>\n",
              "      <td>0</td>\n",
              "      <td>1</td>\n",
              "      <td>0</td>\n",
              "      <td>0</td>\n",
              "      <td>1</td>\n",
              "      <td>0</td>\n",
              "      <td>0</td>\n",
              "      <td>0</td>\n",
              "      <td>0</td>\n",
              "      <td>0</td>\n",
              "      <td>0</td>\n",
              "      <td>0</td>\n",
              "      <td>1</td>\n",
              "      <td>0</td>\n",
              "      <td>0</td>\n",
              "      <td>0</td>\n",
              "      <td>0</td>\n",
              "      <td>0</td>\n",
              "      <td>0</td>\n",
              "      <td>0</td>\n",
              "      <td>0</td>\n",
              "      <td>0</td>\n",
              "      <td>0</td>\n",
              "      <td>0</td>\n",
              "      <td>0</td>\n",
              "      <td>0</td>\n",
              "      <td>0</td>\n",
              "      <td>0</td>\n",
              "      <td>0</td>\n",
              "      <td>0</td>\n",
              "      <td>0</td>\n",
              "      <td>0</td>\n",
              "      <td>0</td>\n",
              "      <td>0</td>\n",
              "      <td>0</td>\n",
              "      <td>0</td>\n",
              "      <td>0</td>\n",
              "      <td>0</td>\n",
              "      <td>0</td>\n",
              "      <td>0</td>\n",
              "      <td>0</td>\n",
              "      <td>0</td>\n",
              "      <td>0</td>\n",
              "      <td>0</td>\n",
              "      <td>0</td>\n",
              "      <td>0</td>\n",
              "      <td>0</td>\n",
              "      <td>0</td>\n",
              "      <td>0</td>\n",
              "      <td>0</td>\n",
              "      <td>0</td>\n",
              "      <td>0</td>\n",
              "      <td>1</td>\n",
              "      <td>0</td>\n",
              "      <td>0</td>\n",
              "      <td>0</td>\n",
              "      <td>1</td>\n",
              "      <td>0</td>\n",
              "      <td>0</td>\n",
              "      <td>0</td>\n",
              "      <td>0</td>\n",
              "      <td>0</td>\n",
              "      <td>0</td>\n",
              "      <td>0</td>\n",
              "      <td>0</td>\n",
              "      <td>0</td>\n",
              "      <td>0</td>\n",
              "      <td>0</td>\n",
              "      <td>0</td>\n",
              "      <td>0</td>\n",
              "      <td>0</td>\n",
              "      <td>0</td>\n",
              "      <td>0</td>\n",
              "      <td>0</td>\n",
              "      <td>0</td>\n",
              "      <td>0</td>\n",
              "      <td>0</td>\n",
              "      <td>0</td>\n",
              "      <td>0</td>\n",
              "      <td>0</td>\n",
              "      <td>0</td>\n",
              "      <td>0</td>\n",
              "      <td>0</td>\n",
              "      <td>0</td>\n",
              "      <td>0</td>\n",
              "      <td>0</td>\n",
              "      <td>0</td>\n",
              "      <td>0</td>\n",
              "      <td>1</td>\n",
              "      <td>0</td>\n",
              "      <td>0</td>\n",
              "      <td>0</td>\n",
              "      <td>0</td>\n",
              "      <td>0</td>\n",
              "      <td>1</td>\n",
              "      <td>1</td>\n",
              "      <td>0</td>\n",
              "      <td>0</td>\n",
              "      <td>0</td>\n",
              "      <td>0</td>\n",
              "      <td>0</td>\n",
              "      <td>0</td>\n",
              "      <td>0</td>\n",
              "      <td>1</td>\n",
              "      <td>0</td>\n",
              "      <td>0</td>\n",
              "      <td>0</td>\n",
              "      <td>0</td>\n",
              "      <td>0</td>\n",
              "      <td>0</td>\n",
              "      <td>0</td>\n",
              "      <td>1</td>\n",
              "      <td>0</td>\n",
              "      <td>0</td>\n",
              "      <td>0</td>\n",
              "      <td>0</td>\n",
              "      <td>1</td>\n",
              "      <td>0</td>\n",
              "      <td>0</td>\n",
              "      <td>1</td>\n",
              "      <td>0</td>\n",
              "      <td>0</td>\n",
              "      <td>0</td>\n",
              "      <td>0</td>\n",
              "      <td>0</td>\n",
              "      <td>0</td>\n",
              "      <td>0</td>\n",
              "      <td>0</td>\n",
              "      <td>0</td>\n",
              "      <td>1</td>\n",
              "      <td>0</td>\n",
              "      <td>0</td>\n",
              "      <td>0</td>\n",
              "      <td>0</td>\n",
              "      <td>1</td>\n",
              "      <td>0</td>\n",
              "      <td>0</td>\n",
              "      <td>1</td>\n",
              "      <td>0</td>\n",
              "      <td>0</td>\n",
              "      <td>1</td>\n",
              "      <td>1</td>\n",
              "      <td>0</td>\n",
              "      <td>0</td>\n",
              "      <td>0</td>\n",
              "      <td>0</td>\n",
              "      <td>0</td>\n",
              "      <td>0</td>\n",
              "      <td>0</td>\n",
              "      <td>0</td>\n",
              "      <td>0</td>\n",
              "      <td>0</td>\n",
              "      <td>0</td>\n",
              "      <td>0</td>\n",
              "      <td>0</td>\n",
              "      <td>0</td>\n",
              "      <td>1</td>\n",
              "      <td>0</td>\n",
              "      <td>0</td>\n",
              "      <td>0</td>\n",
              "      <td>0</td>\n",
              "      <td>0</td>\n",
              "      <td>0</td>\n",
              "      <td>0</td>\n",
              "      <td>0</td>\n",
              "      <td>0</td>\n",
              "      <td>0</td>\n",
              "      <td>0</td>\n",
              "      <td>0</td>\n",
              "      <td>0</td>\n",
              "      <td>0</td>\n",
              "      <td>0</td>\n",
              "      <td>0</td>\n",
              "      <td>0</td>\n",
              "      <td>1</td>\n",
              "      <td>0</td>\n",
              "      <td>0</td>\n",
              "      <td>0</td>\n",
              "      <td>1</td>\n",
              "      <td>0</td>\n",
              "      <td>0</td>\n",
              "      <td>1</td>\n",
              "      <td>0</td>\n",
              "      <td>0</td>\n",
              "      <td>0</td>\n",
              "      <td>0</td>\n",
              "      <td>0</td>\n",
              "      <td>0</td>\n",
              "      <td>0</td>\n",
              "      <td>0</td>\n",
              "      <td>0</td>\n",
              "      <td>0</td>\n",
              "      <td>0</td>\n",
              "      <td>0</td>\n",
              "      <td>0</td>\n",
              "      <td>0</td>\n",
              "      <td>0</td>\n",
              "      <td>0</td>\n",
              "      <td>1</td>\n",
              "      <td>0</td>\n",
              "      <td>0</td>\n",
              "      <td>0</td>\n",
              "      <td>0</td>\n",
              "      <td>0</td>\n",
              "      <td>0</td>\n",
              "      <td>0</td>\n",
              "      <td>0</td>\n",
              "      <td>0</td>\n",
              "      <td>0</td>\n",
              "      <td>0</td>\n",
              "      <td>0</td>\n",
              "      <td>0</td>\n",
              "      <td>0</td>\n",
              "      <td>1</td>\n",
              "      <td>0</td>\n",
              "      <td>0</td>\n",
              "      <td>0</td>\n",
              "      <td>0</td>\n",
              "      <td>0</td>\n",
              "      <td>0</td>\n",
              "      <td>0</td>\n",
              "      <td>0</td>\n",
              "      <td>0</td>\n",
              "      <td>0</td>\n",
              "      <td>0</td>\n",
              "      <td>0</td>\n",
              "      <td>0</td>\n",
              "      <td>0</td>\n",
              "      <td>0</td>\n",
              "      <td>0</td>\n",
              "      <td>0</td>\n",
              "      <td>0</td>\n",
              "      <td>0</td>\n",
              "      <td>0</td>\n",
              "      <td>0</td>\n",
              "      <td>0</td>\n",
              "      <td>0</td>\n",
              "      <td>0</td>\n",
              "      <td>0</td>\n",
              "      <td>0</td>\n",
              "      <td>0</td>\n",
              "      <td>0</td>\n",
              "      <td>0</td>\n",
              "    </tr>\n",
              "    <tr>\n",
              "      <th>Original</th>\n",
              "      <td>0</td>\n",
              "      <td>1</td>\n",
              "      <td>1</td>\n",
              "      <td>1</td>\n",
              "      <td>0</td>\n",
              "      <td>0</td>\n",
              "      <td>0</td>\n",
              "      <td>0</td>\n",
              "      <td>0</td>\n",
              "      <td>0</td>\n",
              "      <td>0</td>\n",
              "      <td>0</td>\n",
              "      <td>0</td>\n",
              "      <td>0</td>\n",
              "      <td>1</td>\n",
              "      <td>0</td>\n",
              "      <td>0</td>\n",
              "      <td>0</td>\n",
              "      <td>0</td>\n",
              "      <td>1</td>\n",
              "      <td>0</td>\n",
              "      <td>0</td>\n",
              "      <td>0</td>\n",
              "      <td>0</td>\n",
              "      <td>0</td>\n",
              "      <td>0</td>\n",
              "      <td>0</td>\n",
              "      <td>0</td>\n",
              "      <td>0</td>\n",
              "      <td>0</td>\n",
              "      <td>0</td>\n",
              "      <td>0</td>\n",
              "      <td>1</td>\n",
              "      <td>0</td>\n",
              "      <td>0</td>\n",
              "      <td>0</td>\n",
              "      <td>0</td>\n",
              "      <td>0</td>\n",
              "      <td>0</td>\n",
              "      <td>0</td>\n",
              "      <td>1</td>\n",
              "      <td>0</td>\n",
              "      <td>0</td>\n",
              "      <td>0</td>\n",
              "      <td>0</td>\n",
              "      <td>0</td>\n",
              "      <td>0</td>\n",
              "      <td>0</td>\n",
              "      <td>0</td>\n",
              "      <td>0</td>\n",
              "      <td>0</td>\n",
              "      <td>0</td>\n",
              "      <td>0</td>\n",
              "      <td>0</td>\n",
              "      <td>1</td>\n",
              "      <td>1</td>\n",
              "      <td>0</td>\n",
              "      <td>0</td>\n",
              "      <td>0</td>\n",
              "      <td>0</td>\n",
              "      <td>0</td>\n",
              "      <td>0</td>\n",
              "      <td>0</td>\n",
              "      <td>1</td>\n",
              "      <td>1</td>\n",
              "      <td>0</td>\n",
              "      <td>1</td>\n",
              "      <td>0</td>\n",
              "      <td>1</td>\n",
              "      <td>0</td>\n",
              "      <td>0</td>\n",
              "      <td>0</td>\n",
              "      <td>0</td>\n",
              "      <td>0</td>\n",
              "      <td>0</td>\n",
              "      <td>0</td>\n",
              "      <td>0</td>\n",
              "      <td>0</td>\n",
              "      <td>0</td>\n",
              "      <td>0</td>\n",
              "      <td>0</td>\n",
              "      <td>0</td>\n",
              "      <td>0</td>\n",
              "      <td>1</td>\n",
              "      <td>0</td>\n",
              "      <td>0</td>\n",
              "      <td>0</td>\n",
              "      <td>1</td>\n",
              "      <td>0</td>\n",
              "      <td>0</td>\n",
              "      <td>0</td>\n",
              "      <td>0</td>\n",
              "      <td>0</td>\n",
              "      <td>0</td>\n",
              "      <td>0</td>\n",
              "      <td>0</td>\n",
              "      <td>0</td>\n",
              "      <td>0</td>\n",
              "      <td>0</td>\n",
              "      <td>0</td>\n",
              "      <td>0</td>\n",
              "      <td>0</td>\n",
              "      <td>0</td>\n",
              "      <td>0</td>\n",
              "      <td>0</td>\n",
              "      <td>0</td>\n",
              "      <td>1</td>\n",
              "      <td>0</td>\n",
              "      <td>0</td>\n",
              "      <td>0</td>\n",
              "      <td>0</td>\n",
              "      <td>1</td>\n",
              "      <td>0</td>\n",
              "      <td>0</td>\n",
              "      <td>0</td>\n",
              "      <td>0</td>\n",
              "      <td>0</td>\n",
              "      <td>0</td>\n",
              "      <td>0</td>\n",
              "      <td>0</td>\n",
              "      <td>0</td>\n",
              "      <td>0</td>\n",
              "      <td>0</td>\n",
              "      <td>0</td>\n",
              "      <td>0</td>\n",
              "      <td>0</td>\n",
              "      <td>0</td>\n",
              "      <td>0</td>\n",
              "      <td>0</td>\n",
              "      <td>0</td>\n",
              "      <td>0</td>\n",
              "      <td>0</td>\n",
              "      <td>0</td>\n",
              "      <td>1</td>\n",
              "      <td>0</td>\n",
              "      <td>0</td>\n",
              "      <td>0</td>\n",
              "      <td>0</td>\n",
              "      <td>0</td>\n",
              "      <td>0</td>\n",
              "      <td>1</td>\n",
              "      <td>0</td>\n",
              "      <td>0</td>\n",
              "      <td>0</td>\n",
              "      <td>1</td>\n",
              "      <td>0</td>\n",
              "      <td>0</td>\n",
              "      <td>0</td>\n",
              "      <td>0</td>\n",
              "      <td>0</td>\n",
              "      <td>0</td>\n",
              "      <td>0</td>\n",
              "      <td>0</td>\n",
              "      <td>0</td>\n",
              "      <td>0</td>\n",
              "      <td>1</td>\n",
              "      <td>0</td>\n",
              "      <td>0</td>\n",
              "      <td>0</td>\n",
              "      <td>0</td>\n",
              "      <td>0</td>\n",
              "      <td>0</td>\n",
              "      <td>1</td>\n",
              "      <td>0</td>\n",
              "      <td>0</td>\n",
              "      <td>0</td>\n",
              "      <td>0</td>\n",
              "      <td>0</td>\n",
              "      <td>0</td>\n",
              "      <td>0</td>\n",
              "      <td>0</td>\n",
              "      <td>0</td>\n",
              "      <td>0</td>\n",
              "      <td>0</td>\n",
              "      <td>1</td>\n",
              "      <td>0</td>\n",
              "      <td>1</td>\n",
              "      <td>0</td>\n",
              "      <td>0</td>\n",
              "      <td>0</td>\n",
              "      <td>0</td>\n",
              "      <td>0</td>\n",
              "      <td>0</td>\n",
              "      <td>0</td>\n",
              "      <td>1</td>\n",
              "      <td>0</td>\n",
              "      <td>0</td>\n",
              "      <td>0</td>\n",
              "      <td>1</td>\n",
              "      <td>1</td>\n",
              "      <td>0</td>\n",
              "      <td>0</td>\n",
              "      <td>0</td>\n",
              "      <td>0</td>\n",
              "      <td>0</td>\n",
              "      <td>0</td>\n",
              "      <td>1</td>\n",
              "      <td>0</td>\n",
              "      <td>1</td>\n",
              "      <td>1</td>\n",
              "      <td>0</td>\n",
              "      <td>0</td>\n",
              "      <td>0</td>\n",
              "      <td>0</td>\n",
              "      <td>0</td>\n",
              "      <td>0</td>\n",
              "      <td>0</td>\n",
              "      <td>0</td>\n",
              "      <td>0</td>\n",
              "      <td>0</td>\n",
              "      <td>1</td>\n",
              "      <td>0</td>\n",
              "      <td>0</td>\n",
              "      <td>0</td>\n",
              "      <td>0</td>\n",
              "      <td>1</td>\n",
              "      <td>0</td>\n",
              "      <td>0</td>\n",
              "      <td>0</td>\n",
              "      <td>0</td>\n",
              "      <td>0</td>\n",
              "      <td>0</td>\n",
              "      <td>1</td>\n",
              "      <td>0</td>\n",
              "      <td>1</td>\n",
              "      <td>0</td>\n",
              "      <td>0</td>\n",
              "      <td>0</td>\n",
              "      <td>1</td>\n",
              "      <td>0</td>\n",
              "      <td>0</td>\n",
              "      <td>0</td>\n",
              "      <td>0</td>\n",
              "      <td>0</td>\n",
              "      <td>0</td>\n",
              "      <td>0</td>\n",
              "      <td>0</td>\n",
              "      <td>0</td>\n",
              "      <td>0</td>\n",
              "      <td>0</td>\n",
              "      <td>1</td>\n",
              "      <td>0</td>\n",
              "      <td>0</td>\n",
              "      <td>0</td>\n",
              "      <td>0</td>\n",
              "      <td>0</td>\n",
              "      <td>0</td>\n",
              "      <td>0</td>\n",
              "      <td>0</td>\n",
              "      <td>0</td>\n",
              "      <td>0</td>\n",
              "      <td>0</td>\n",
              "      <td>0</td>\n",
              "      <td>0</td>\n",
              "      <td>1</td>\n",
              "      <td>0</td>\n",
              "      <td>0</td>\n",
              "      <td>0</td>\n",
              "      <td>0</td>\n",
              "      <td>0</td>\n",
              "      <td>0</td>\n",
              "      <td>0</td>\n",
              "      <td>0</td>\n",
              "      <td>0</td>\n",
              "      <td>0</td>\n",
              "      <td>0</td>\n",
              "      <td>0</td>\n",
              "      <td>0</td>\n",
              "      <td>0</td>\n",
              "      <td>0</td>\n",
              "      <td>0</td>\n",
              "      <td>0</td>\n",
              "      <td>0</td>\n",
              "      <td>0</td>\n",
              "      <td>0</td>\n",
              "      <td>0</td>\n",
              "      <td>0</td>\n",
              "      <td>0</td>\n",
              "      <td>0</td>\n",
              "      <td>0</td>\n",
              "      <td>0</td>\n",
              "      <td>0</td>\n",
              "      <td>0</td>\n",
              "      <td>0</td>\n",
              "      <td>0</td>\n",
              "      <td>0</td>\n",
              "      <td>0</td>\n",
              "      <td>0</td>\n",
              "      <td>1</td>\n",
              "      <td>0</td>\n",
              "      <td>0</td>\n",
              "      <td>0</td>\n",
              "      <td>1</td>\n",
              "      <td>1</td>\n",
              "      <td>0</td>\n",
              "      <td>0</td>\n",
              "      <td>0</td>\n",
              "      <td>0</td>\n",
              "      <td>1</td>\n",
              "      <td>0</td>\n",
              "      <td>0</td>\n",
              "      <td>1</td>\n",
              "      <td>0</td>\n",
              "      <td>1</td>\n",
              "      <td>0</td>\n",
              "      <td>0</td>\n",
              "      <td>0</td>\n",
              "      <td>0</td>\n",
              "      <td>0</td>\n",
              "      <td>1</td>\n",
              "      <td>0</td>\n",
              "      <td>0</td>\n",
              "      <td>0</td>\n",
              "      <td>0</td>\n",
              "      <td>1</td>\n",
              "      <td>0</td>\n",
              "      <td>0</td>\n",
              "      <td>1</td>\n",
              "      <td>0</td>\n",
              "      <td>0</td>\n",
              "      <td>0</td>\n",
              "      <td>0</td>\n",
              "      <td>0</td>\n",
              "      <td>0</td>\n",
              "      <td>0</td>\n",
              "      <td>0</td>\n",
              "      <td>0</td>\n",
              "      <td>1</td>\n",
              "      <td>0</td>\n",
              "      <td>0</td>\n",
              "      <td>0</td>\n",
              "      <td>0</td>\n",
              "      <td>1</td>\n",
              "      <td>0</td>\n",
              "      <td>0</td>\n",
              "      <td>1</td>\n",
              "      <td>0</td>\n",
              "      <td>0</td>\n",
              "      <td>1</td>\n",
              "      <td>1</td>\n",
              "      <td>0</td>\n",
              "      <td>0</td>\n",
              "      <td>0</td>\n",
              "      <td>0</td>\n",
              "      <td>0</td>\n",
              "      <td>1</td>\n",
              "      <td>0</td>\n",
              "      <td>0</td>\n",
              "      <td>0</td>\n",
              "      <td>0</td>\n",
              "      <td>0</td>\n",
              "      <td>0</td>\n",
              "      <td>0</td>\n",
              "      <td>0</td>\n",
              "      <td>1</td>\n",
              "      <td>0</td>\n",
              "      <td>0</td>\n",
              "      <td>1</td>\n",
              "      <td>0</td>\n",
              "      <td>0</td>\n",
              "      <td>0</td>\n",
              "      <td>0</td>\n",
              "      <td>0</td>\n",
              "      <td>0</td>\n",
              "      <td>0</td>\n",
              "      <td>0</td>\n",
              "      <td>1</td>\n",
              "      <td>0</td>\n",
              "      <td>0</td>\n",
              "      <td>0</td>\n",
              "      <td>0</td>\n",
              "      <td>0</td>\n",
              "      <td>0</td>\n",
              "      <td>0</td>\n",
              "      <td>0</td>\n",
              "      <td>0</td>\n",
              "      <td>1</td>\n",
              "      <td>0</td>\n",
              "      <td>0</td>\n",
              "      <td>1</td>\n",
              "      <td>0</td>\n",
              "      <td>0</td>\n",
              "      <td>0</td>\n",
              "      <td>0</td>\n",
              "      <td>0</td>\n",
              "      <td>0</td>\n",
              "      <td>0</td>\n",
              "      <td>0</td>\n",
              "      <td>0</td>\n",
              "      <td>0</td>\n",
              "      <td>0</td>\n",
              "      <td>0</td>\n",
              "      <td>0</td>\n",
              "      <td>0</td>\n",
              "      <td>0</td>\n",
              "      <td>0</td>\n",
              "      <td>1</td>\n",
              "      <td>0</td>\n",
              "      <td>0</td>\n",
              "      <td>0</td>\n",
              "      <td>0</td>\n",
              "      <td>0</td>\n",
              "      <td>0</td>\n",
              "      <td>0</td>\n",
              "      <td>0</td>\n",
              "      <td>0</td>\n",
              "      <td>0</td>\n",
              "      <td>0</td>\n",
              "      <td>0</td>\n",
              "      <td>0</td>\n",
              "      <td>0</td>\n",
              "      <td>1</td>\n",
              "      <td>0</td>\n",
              "      <td>1</td>\n",
              "      <td>0</td>\n",
              "      <td>0</td>\n",
              "      <td>0</td>\n",
              "      <td>0</td>\n",
              "      <td>0</td>\n",
              "      <td>0</td>\n",
              "      <td>0</td>\n",
              "      <td>1</td>\n",
              "      <td>1</td>\n",
              "      <td>0</td>\n",
              "      <td>0</td>\n",
              "      <td>0</td>\n",
              "      <td>0</td>\n",
              "      <td>0</td>\n",
              "      <td>0</td>\n",
              "      <td>0</td>\n",
              "      <td>0</td>\n",
              "      <td>0</td>\n",
              "      <td>0</td>\n",
              "      <td>1</td>\n",
              "      <td>1</td>\n",
              "      <td>0</td>\n",
              "      <td>0</td>\n",
              "      <td>0</td>\n",
              "      <td>0</td>\n",
              "      <td>0</td>\n",
              "      <td>0</td>\n",
              "    </tr>\n",
              "  </tbody>\n",
              "</table>\n",
              "</div>"
            ],
            "text/plain": [
              "           0    1    2    3    4    5    6    7    8    9    10   11   12   \\\n",
              "Predicted    0    1    1    1    0    0    0    0    0    0    0    0    0   \n",
              "Original     0    1    1    1    0    0    0    0    0    0    0    0    0   \n",
              "\n",
              "           13   14   15   16   17   18   19   20   21   22   23   24   25   \\\n",
              "Predicted    0    1    0    0    0    0    0    0    0    0    0    0    0   \n",
              "Original     0    1    0    0    0    0    1    0    0    0    0    0    0   \n",
              "\n",
              "           26   27   28   29   30   31   32   33   34   35   36   37   38   \\\n",
              "Predicted    0    0    0    0    0    0    0    0    0    0    0    0    0   \n",
              "Original     0    0    0    0    0    0    1    0    0    0    0    0    0   \n",
              "\n",
              "           39   40   41   42   43   44   45   46   47   48   49   50   51   \\\n",
              "Predicted    0    0    0    0    0    0    0    0    0    0    0    0    0   \n",
              "Original     0    1    0    0    0    0    0    0    0    0    0    0    0   \n",
              "\n",
              "           52   53   54   55   56   57   58   59   60   61   62   63   64   \\\n",
              "Predicted    0    0    1    0    0    0    0    0    0    0    0    1    0   \n",
              "Original     0    0    1    1    0    0    0    0    0    0    0    1    1   \n",
              "\n",
              "           65   66   67   68   69   70   71   72   73   74   75   76   77   \\\n",
              "Predicted    0    1    0    0    0    0    0    0    0    0    0    0    0   \n",
              "Original     0    1    0    1    0    0    0    0    0    0    0    0    0   \n",
              "\n",
              "           78   79   80   81   82   83   84   85   86   87   88   89   90   \\\n",
              "Predicted    0    0    0    0    0    0    0    0    0    1    0    0    0   \n",
              "Original     0    0    0    0    0    1    0    0    0    1    0    0    0   \n",
              "\n",
              "           91   92   93   94   95   96   97   98   99   100  101  102  103  \\\n",
              "Predicted    0    0    0    0    0    0    0    0    0    0    0    0    0   \n",
              "Original     0    0    0    0    0    0    0    0    0    0    0    0    0   \n",
              "\n",
              "           104  105  106  107  108  109  110  111  112  113  114  115  116  \\\n",
              "Predicted    0    0    0    0    0    0    0    1    0    0    0    0    0   \n",
              "Original     0    0    1    0    0    0    0    1    0    0    0    0    0   \n",
              "\n",
              "           117  118  119  120  121  122  123  124  125  126  127  128  129  \\\n",
              "Predicted    0    0    0    0    0    0    0    0    0    0    0    0    0   \n",
              "Original     0    0    0    0    0    0    0    0    0    0    0    0    0   \n",
              "\n",
              "           130  131  132  133  134  135  136  137  138  139  140  141  142  \\\n",
              "Predicted    0    0    0    0    0    0    0    0    0    0    0    0    0   \n",
              "Original     0    0    0    1    0    0    0    0    0    0    1    0    0   \n",
              "\n",
              "           143  144  145  146  147  148  149  150  151  152  153  154  155  \\\n",
              "Predicted    0    1    0    0    0    0    0    0    0    0    0    0    1   \n",
              "Original     0    1    0    0    0    0    0    0    0    0    0    0    1   \n",
              "\n",
              "           156  157  158  159  160  161  162  163  164  165  166  167  168  \\\n",
              "Predicted    0    1    0    0    0    0    1    0    1    0    0    0    0   \n",
              "Original     0    0    0    0    0    0    1    0    0    0    0    0    0   \n",
              "\n",
              "           169  170  171  172  173  174  175  176  177  178  179  180  181  \\\n",
              "Predicted    0    0    0    0    0    0    0    0    0    0    0    0    0   \n",
              "Original     0    0    0    0    0    1    0    1    0    0    0    0    0   \n",
              "\n",
              "           182  183  184  185  186  187  188  189  190  191  192  193  194  \\\n",
              "Predicted    0    0    0    0    0    0    1    1    0    0    0    0    0   \n",
              "Original     0    0    1    0    0    0    1    1    0    0    0    0    0   \n",
              "\n",
              "           195  196  197  198  199  200  201  202  203  204  205  206  207  \\\n",
              "Predicted    0    0    0    0    1    0    0    1    0    0    0    0    0   \n",
              "Original     0    1    0    1    1    0    0    0    0    0    0    0    0   \n",
              "\n",
              "           208  209  210  211  212  213  214  215  216  217  218  219  220  \\\n",
              "Predicted    0    0    1    0    0    0    0    0    0    0    0    0    0   \n",
              "Original     0    0    1    0    0    0    0    1    0    0    0    0    0   \n",
              "\n",
              "           221  222  223  224  225  226  227  228  229  230  231  232  233  \\\n",
              "Predicted    0    0    0    0    0    0    0    0    0    0    0    0    0   \n",
              "Original     0    1    0    1    0    0    0    1    0    0    0    0    0   \n",
              "\n",
              "           234  235  236  237  238  239  240  241  242  243  244  245  246  \\\n",
              "Predicted    0    0    0    0    0    0    0    0    0    0    0    0    0   \n",
              "Original     0    0    0    0    0    0    1    0    0    0    0    0    0   \n",
              "\n",
              "           247  248  249  250  251  252  253  254  255  256  257  258  259  \\\n",
              "Predicted    0    0    0    1    0    0    0    1    0    0    0    0    0   \n",
              "Original     0    0    0    0    0    0    0    1    0    0    0    0    0   \n",
              "\n",
              "           260  261  262  263  264  265  266  267  268  269  270  271  272  \\\n",
              "Predicted    0    0    0    0    0    0    0    0    0    0    0    0    0   \n",
              "Original     0    0    0    0    0    0    0    0    0    0    0    0    0   \n",
              "\n",
              "           273  274  275  276  277  278  279  280  281  282  283  284  285  \\\n",
              "Predicted    0    0    0    0    0    0    0    0    0    0    0    0    0   \n",
              "Original     0    0    0    0    0    0    0    0    0    0    0    0    0   \n",
              "\n",
              "           286  287  288  289  290  291  292  293  294  295  296  297  298  \\\n",
              "Predicted    1    0    0    0    0    0    1    1    0    0    0    0    0   \n",
              "Original     0    0    1    0    0    0    1    1    0    0    0    0    1   \n",
              "\n",
              "           299  300  301  302  303  304  305  306  307  308  309  310  311  \\\n",
              "Predicted    0    0    1    0    0    0    0    0    0    0    1    0    0   \n",
              "Original     0    0    1    0    1    0    0    0    0    0    1    0    0   \n",
              "\n",
              "           312  313  314  315  316  317  318  319  320  321  322  323  324  \\\n",
              "Predicted    0    0    1    0    0    1    0    0    0    0    0    0    0   \n",
              "Original     0    0    1    0    0    1    0    0    0    0    0    0    0   \n",
              "\n",
              "           325  326  327  328  329  330  331  332  333  334  335  336  337  \\\n",
              "Predicted    0    0    1    0    0    0    0    1    0    0    1    0    0   \n",
              "Original     0    0    1    0    0    0    0    1    0    0    1    0    0   \n",
              "\n",
              "           338  339  340  341  342  343  344  345  346  347  348  349  350  \\\n",
              "Predicted    1    1    0    0    0    0    0    0    0    0    0    0    0   \n",
              "Original     1    1    0    0    0    0    0    1    0    0    0    0    0   \n",
              "\n",
              "           351  352  353  354  355  356  357  358  359  360  361  362  363  \\\n",
              "Predicted    0    0    0    1    0    0    0    0    0    0    0    0    0   \n",
              "Original     0    0    0    1    0    0    1    0    0    0    0    0    0   \n",
              "\n",
              "           364  365  366  367  368  369  370  371  372  373  374  375  376  \\\n",
              "Predicted    0    0    0    0    0    0    0    0    1    0    0    0    1   \n",
              "Original     0    0    1    0    0    0    0    0    0    0    0    0    1   \n",
              "\n",
              "           377  378  379  380  381  382  383  384  385  386  387  388  389  \\\n",
              "Predicted    0    0    1    0    0    0    0    0    0    0    0    0    0   \n",
              "Original     0    0    1    0    0    0    0    0    0    0    0    0    0   \n",
              "\n",
              "           390  391  392  393  394  395  396  397  398  399  400  401  402  \\\n",
              "Predicted    0    0    0    0    0    0    1    0    0    0    0    0    0   \n",
              "Original     0    0    0    0    0    0    1    0    0    0    0    0    0   \n",
              "\n",
              "           403  404  405  406  407  408  409  410  411  412  413  414  415  \\\n",
              "Predicted    0    0    0    0    0    0    0    0    1    0    0    0    0   \n",
              "Original     0    0    0    0    0    0    0    0    1    0    1    0    0   \n",
              "\n",
              "           416  417  418  419  420  421  422  423  424  425  426  427  428  \\\n",
              "Predicted    0    0    0    0    0    0    0    0    0    0    0    0    0   \n",
              "Original     0    0    0    0    0    1    1    0    0    0    0    0    0   \n",
              "\n",
              "           429  430  431  432  433  434  435  436  437  438  439  440  \n",
              "Predicted    0    0    0    0    0    0    0    0    0    0    0    0  \n",
              "Original     0    0    0    0    1    1    0    0    0    0    0    0  "
            ]
          },
          "metadata": {},
          "execution_count": 74
        }
      ]
    },
    {
      "cell_type": "code",
      "metadata": {
        "id": "bLDnFn_U69UW"
      },
      "source": [
        ""
      ],
      "execution_count": null,
      "outputs": []
    }
  ]
}